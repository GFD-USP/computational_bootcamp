{
 "cells": [
  {
   "cell_type": "markdown",
   "id": "1f9cd009-199d-4752-9dfd-f170dd93ad41",
   "metadata": {},
   "source": [
    "# Tutorial 5: Mais sobre x-array\n",
    "\n",
    "Nesse tutorial, vamos comparar a série de nível do mar em Cananéia com medidas de altímetro no Atlântico Sul. Ao longo da análise, vamos aprender alguns \"x-array tricks\"."
   ]
  },
  {
   "cell_type": "code",
   "execution_count": null,
   "id": "d79ec5e9-e2ee-4f7b-8ec5-729db2f80bba",
   "metadata": {},
   "outputs": [],
   "source": []
  }
 ],
 "metadata": {
  "kernelspec": {
   "display_name": "Python 3 (ipykernel)",
   "language": "python",
   "name": "python3"
  },
  "language_info": {
   "codemirror_mode": {
    "name": "ipython",
    "version": 3
   },
   "file_extension": ".py",
   "mimetype": "text/x-python",
   "name": "python",
   "nbconvert_exporter": "python",
   "pygments_lexer": "ipython3",
   "version": "3.10.6"
  }
 },
 "nbformat": 4,
 "nbformat_minor": 5
}
