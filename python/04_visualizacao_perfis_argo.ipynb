{
 "cells": [
  {
   "cell_type": "markdown",
   "id": "0e49abff-0bbd-4066-a60b-8f73b3a69b30",
   "metadata": {},
   "source": [
    "# Prática 2: análise e representação de dados coletados por flutuadores Deep BCG Argo\n",
    "\n",
    "Hoje você manipulará dados de temperatura, salinidade e oxigênio coletados por flutuadores biogeoquímicos Deep Argo no Atlântico. Trabalhar com esses dados requer aprender um pouco sobre arquivos netCDF. É importante não se distrair com a complexidade do conjunto de dados. Trabalhar com arquivos netCDF e perfis Argo se tornará muito mais fácil quando aprendermos sobre xarray em duas semanas. Por enquanto, no entanto, vamos focar nas ferramentas que já aprendemos.\n",
    "\n",
    "Instruções:\n",
    "\n",
    "Crie os melhores gráficos possíveis, prestando atenção especial a rótulos, unidades, mapas de cores, etc.\n",
    "Salve as suas figuras em formato .png.\n",
    "Descreva os resultados: o que você vê?\n",
    "Discuta os resultados: o que explica as diferenças entre os perfis?\n",
    "Se você estiver confortável com loops \"for\", tente usar o mínimo possível de código repetitivo.\n",
    "\n",
    "\n",
    "\n",
    "\n"
   ]
  },
  {
   "cell_type": "markdown",
   "id": "fa2536e0-0d16-47d1-a55b-c9a0ff4cf3a7",
   "metadata": {},
   "source": [
    "### Antes de começar\n",
    "Módulos utilizados na prática 2. É sempre um bom hábito carregar os módulos que você irá usar no início do notebook)"
   ]
  },
  {
   "cell_type": "code",
   "execution_count": null,
   "id": "4b49bd4f-0274-4db4-84a9-a03db290fdd5",
   "metadata": {},
   "outputs": [],
   "source": [
    "#\n",
    "# Módulos básicos do Python\n",
    "#\n",
    "\n",
    "import numpy as np                     # numpy para manipulação de arrays\n",
    "from netCDF4 import Dataset            # netCDF para leitura de arquivos netCDF\n",
    "import matplotlib.pyplot as plt        # bilioteca de plotagem\n",
    "\n",
    "\n",
    "#\n",
    "# Pacotes especializados\n",
    "#\n",
    "\n",
    "import gsw                             # Toolbox Gibbs-SeaWater para cáculo envolvendo a equação de estado da água do mar\n",
    "import cmocean                         # Colormaps oceanográficos"
   ]
  },
  {
   "cell_type": "markdown",
   "id": "34eae0f8-aae4-4685-93c4-6637f550eed0",
   "metadata": {},
   "source": [
    "### Step 1:  Passo 1: Aprendendo o básico de como carregar um arquivo netCDF no Python"
   ]
  },
  {
   "cell_type": "code",
   "execution_count": null,
   "id": "4282aebb-1611-4ea7-a799-05b739a0f3af",
   "metadata": {},
   "outputs": [],
   "source": [
    "ls /data/bcg-argo/"
   ]
  },
  {
   "cell_type": "code",
   "execution_count": null,
   "id": "6bcdad78-c202-4caa-a7b3-5335c589dee4",
   "metadata": {},
   "outputs": [],
   "source": [
    "data_dir =  '/data/bcg-argo/'               # Define data_dir for convenience\n",
    "filename = 'SR6902974_045.nc'            \n",
    "SR6902974 = Dataset(data_dir + filename) # load "
   ]
  },
  {
   "cell_type": "code",
   "execution_count": null,
   "id": "3290d650-172c-4cfc-9734-8b4f8804f522",
   "metadata": {},
   "outputs": [],
   "source": [
    "# Se você digitar o nome do conjunto de dados netCDF, verá seus metadados\n",
    "SR6902974"
   ]
  },
  {
   "cell_type": "code",
   "execution_count": null,
   "id": "a375e31a-d3a8-4567-bc79-37c97ebcc796",
   "metadata": {},
   "outputs": [],
   "source": [
    "# Verifique apenas as \"chaves\" (nomes das variáveis):\n",
    "SR6902974.variables.keys()"
   ]
  },
  {
   "cell_type": "code",
   "execution_count": null,
   "id": "74a52809-5ccf-4c51-9d2b-e9699a02ffac",
   "metadata": {},
   "outputs": [],
   "source": [
    "# São muitas variáveis, incluindo informações sobre o tipo de dado, formato,\n",
    "# posição, horário do perfil e vários dados sobre o processo de controle de qualidade\n",
    "\n",
    "# Para os metadados de uma única variável, por exemplo, TEMP:\n",
    "SR6902974['TEMP']"
   ]
  },
  {
   "cell_type": "code",
   "execution_count": null,
   "id": "548b8b16-e04b-4049-a3fa-12768a315792",
   "metadata": {},
   "outputs": [],
   "source": [
    "# Outro exemplo é a variável pressão (pressure)\n",
    "SR6902974['PRES']"
   ]
  },
  {
   "cell_type": "markdown",
   "id": "97953302-a1cd-4f10-aed1-4de62a4a012f",
   "metadata": {},
   "source": [
    "A coordenada vertical é a pressão, que é medida por um sensor de quartzo no CTD. A pressão da água do mar é relatada em dbar (decibar), onde 1 dbar = 0,1 bar = 10000 Pa (Pascal). Os oceanógrafos gostam de dbar porque uma coluna de 1 metro de água do mar é, para uma excelente aproximação, equivalente a 1 dbar."
   ]
  },
  {
   "cell_type": "code",
   "execution_count": null,
   "id": "1b3f856e-4bb1-456b-b606-ea86272cf71e",
   "metadata": {},
   "outputs": [],
   "source": [
    "# Finalmente, também estaremos trabalhando com oxigênio dissolvido hoje:\n",
    "SR6902974['DOXY']"
   ]
  },
  {
   "cell_type": "code",
   "execution_count": null,
   "id": "141eca07-6b91-4b6a-b7cf-e53038fffdc5",
   "metadata": {},
   "outputs": [],
   "source": [
    "# Você também pode acessar a posição e o horário em que o perfil foi coletado\n",
    "SR6902974['LONGITUDE'][0].data, SR6902974['LATITUDE'][0].data, SR6902974['JULD'][0].data"
   ]
  },
  {
   "cell_type": "markdown",
   "id": "96cec6ef-e9c8-4814-aab6-574be88affa6",
   "metadata": {},
   "source": [
    "O tempo JULD acima é um dia juliano, medindo o tempo decorrido (em) dias desde um tempo de referência. Para flutuadores Argo, o tempo de referência é 01/01/1950 às 0H:0M:0S GMT (também conhecido como 000)."
   ]
  },
  {
   "cell_type": "code",
   "execution_count": null,
   "id": "86d63686-c67d-486d-8e0f-22d5ac1e97eb",
   "metadata": {},
   "outputs": [],
   "source": [
    "# Esses dados de referência são registrados no arquivo netCDF:\n",
    "ref_date = SR6902974['REFERENCE_DATE_TIME'][:].data\n",
    "''.join(list(map(lambda x: x.decode('utf-8'), ref_date))).strip()  # Don't get scared by this cryptic line of code: it simply prints the reference date in YYYYMMDDMMSSmm"
   ]
  },
  {
   "cell_type": "code",
   "execution_count": null,
   "id": "d71b4102-9708-4473-9cca-d9cafece8aa3",
   "metadata": {},
   "outputs": [],
   "source": [
    "# Você pode plotar um perfil de temperature, por exemplo:\n",
    "plt.plot(SR6902974['TEMP'][0],SR6902974['PRES'][0])\n",
    "plt.ylim(3500,0)\n",
    "plt.xlabel(SR6902974['TEMP'].long_name + ' ['+ SR6902974['TEMP'].units + ']')\n",
    "plt.ylabel(SR6902974['PRES'].long_name[:18] + ' ['+ SR6902974['PRES'].units + ']')"
   ]
  },
  {
   "cell_type": "markdown",
   "id": "2113a6cd-2632-4af1-bb9e-1eb4e608a931",
   "metadata": {},
   "source": [
    "### Passo 2.1: Plote a salinidade (PSAL) e o oxigênio dissolvido (DOXY). Você percebe algo estranho com esses perfis? Discuta os resultados."
   ]
  },
  {
   "cell_type": "markdown",
   "id": "7a3e70f7-314c-4bd0-9bf3-64e6f649b751",
   "metadata": {},
   "source": [
    "Note que DOXY possui algumas lacunas que aparecem como valores mascarados, então você deve usar um marcador (\".\" ou \"o\" ou \"-o\") para plotá-lo. Veja este https://matplotlib.org/stable/gallery/lines_bars_and_markers/masked_demo.html para alternativas."
   ]
  },
  {
   "cell_type": "code",
   "execution_count": null,
   "id": "b6a61c89-81d8-478f-a3b6-cfa9ec48329d",
   "metadata": {},
   "outputs": [],
   "source": [
    "fig = plt.figure(figsize=(10,4.5))\n",
    "\n",
    "ax1 = fig.add_subplot(121)\n",
    "plt.plot(SR6902974['PSAL'][0],SR6902974['PRES'][0],'.')\n",
    "plt.ylim(3500,0)\n",
    "plt.xlabel(SR6902974['PSAL'].long_name + ' ['+ SR6902974['PSAL'].units + ']')\n",
    "plt.ylabel(SR6902974['PRES'].long_name[:18] + ' ['+ SR6902974['PRES'].units + ']')\n",
    "\n",
    "fig.subplots_adjust(wspace=.4)\n",
    "\n",
    "ax2 = fig.add_subplot(122)\n",
    "plt.plot(SR6902974['DOXY'][0],SR6902974['PRES'][0],'.-')\n",
    "plt.ylim(3500,0)\n",
    "plt.xlabel(SR6902974['DOXY'].long_name + ' ['+ SR6902974['DOXY'].units + ']')\n",
    "plt.ylabel(SR6902974['PRES'].long_name[:18] + ' ['+ SR6902974['PRES'].units + ']')\n",
    "\n",
    "# !mkdir img\n",
    "plt.savefig('img/Salinity_and_Oxygen_Profiles.png',dpi=100)"
   ]
  },
  {
   "cell_type": "markdown",
   "id": "e6ede349-14a8-49a5-ab32-77a28959355b",
   "metadata": {},
   "source": [
    "### Passo 2: Carregando todos os dados"
   ]
  },
  {
   "cell_type": "markdown",
   "id": "b46013d3-5b74-492c-adde-db6209a68b41",
   "metadata": {},
   "source": [
    "Para evitar confusão nesta prática, vamos colocar as informações mais relevantes em dicionários. Abaixo estão duas funções em python que o César escreveu para esta tarefa."
   ]
  },
  {
   "cell_type": "code",
   "execution_count": null,
   "id": "24f45e45-9a5a-4488-ac32-909a661f8012",
   "metadata": {},
   "outputs": [],
   "source": [
    "def jstring(bstring):\n",
    "    \"\"\"\" Join an array of bstrings into a single string \"\"\"\n",
    "    return ''.join(list(map(lambda bstring: bstring.decode('utf-8'), bstring))).strip()\n",
    "\n",
    "def netCDFtoDict(dataset): \n",
    "    \"\"\" This function puts the most basic information of an Argo profile\n",
    "         into a dictionary for simple manipulation. \n",
    "         \n",
    "         Written for an in-class assignment of MARN-5895, UConn.\n",
    "    \n",
    "    Input:\n",
    "    \n",
    "        - a netCDF Dataset with the Argo profile\n",
    "        \n",
    "    Output:\n",
    "    \n",
    "        - a dictionary with the profile data, including\n",
    "        \n",
    "                - platform (platform number), \n",
    "                - longitude (single float number),\n",
    "                - latitude (single float number),\n",
    "                - pressure (array of pressure in dbar)\n",
    "                - temperature (array of temperature in degC)\n",
    "                - salinity (array of salinity in psu)\n",
    "                - doxygen (array of dissolved oxygen in micro mole per kg)\n",
    "         \n",
    "    \"\"\"\n",
    "    \n",
    "    # mask gaps\n",
    "    doxy = dataset['DOXY_ADJUSTED'][0].data\n",
    "    doxy = np.ma.masked_where(doxy==99999.,doxy)\n",
    "    \n",
    "    profile_dict = dict(platform=jstring(dataset['PLATFORM_NUMBER'][0].data),\n",
    "                        longitude=dataset['LONGITUDE'][0].data,\n",
    "                        latitude=dataset['LATITUDE'][0].data,\n",
    "                        pressure=dataset['PRES_ADJUSTED'][0].data,\n",
    "                        temperature=dataset['TEMP_ADJUSTED'][0].data,\n",
    "                        salinity=dataset['PSAL_ADJUSTED'][0].data,\n",
    "                        doxygen=doxy,\n",
    "    )\n",
    "    \n",
    "    return profile_dict"
   ]
  },
  {
   "cell_type": "code",
   "execution_count": null,
   "id": "1b173caa-b2fc-4c89-b446-0faa723a0c3f",
   "metadata": {},
   "outputs": [],
   "source": [
    "# Exemplo de uso da função:\n",
    "filename = 'SR6902974_045.nc'            \n",
    "SD6903573 = netCDFtoDict(Dataset(data_dir + filename))"
   ]
  },
  {
   "cell_type": "code",
   "execution_count": null,
   "id": "999b71b4-eb4e-43db-a611-03907f253bb4",
   "metadata": {},
   "outputs": [],
   "source": [
    "# Agora podemos usar isso para todos os arquivos\n",
    "# Primeiro, usamos o módulo glob para obter o caminho+nome de todos os arquivos de dados em data_dir\n",
    "import glob\n",
    "filenames = glob.glob(data_dir+'/*.nc')\n",
    "print(filenames)"
   ]
  },
  {
   "cell_type": "code",
   "execution_count": null,
   "id": "335cba41-ba6a-4e26-ac1b-c092cb2f1721",
   "metadata": {},
   "outputs": [],
   "source": [
    "#Para obter o número de ID do flutuador, podemos fatiar a string do nome do arquivo, por exemplo, para obter o ID do flutuador do elemento zero de filenames:\n",
    "filenames[0][:-3]"
   ]
  },
  {
   "cell_type": "code",
   "execution_count": null,
   "id": "54ef2f9e-0129-478d-8e31-3fb3a6603465",
   "metadata": {},
   "outputs": [],
   "source": [
    "# Colocando tudo junto: percorra os nomes dos arquivos, carregue o conjunto de dados netCDF e coloque as informações básicas em um dicionário\n",
    "floats = []\n",
    "for filename in filenames:\n",
    "    dname = filename[15:-7]\n",
    "    print('Generating dictionary '+ dname)\n",
    "    dataset=Dataset(filename)\n",
    "    exec(dname + ' = netCDFtoDict(dataset)')\n",
    "    floats.append(dname)"
   ]
  },
  {
   "cell_type": "code",
   "execution_count": null,
   "id": "04a5fe73-2207-4ed8-8f90-227d08aeed39",
   "metadata": {},
   "outputs": [],
   "source": [
    "#  A lista \"floats\" contém o nome/ID de cada flutuador\n",
    "# Isso pode ser útil no seu código de plotagem abaixo\n",
    "floats"
   ]
  },
  {
   "cell_type": "code",
   "execution_count": null,
   "id": "21bbabff-7ff7-4fb6-80cd-720f13df292a",
   "metadata": {},
   "outputs": [],
   "source": [
    "# O comando \"eval\" é útil: ele recebe uma string\n",
    "# como argumento e a transforma em um comando/variável Python\n",
    "argo_float = eval('SR6902892')\n",
    "argo_float['temperature']"
   ]
  },
  {
   "cell_type": "code",
   "execution_count": null,
   "id": "228e8091-805e-4342-9a00-87a5f7984f77",
   "metadata": {},
   "outputs": [],
   "source": [
    "#Esta célula gera um mapa rápido e simples\n",
    "# com as posições dos flutuadores.\n",
    "#(Iremos aprender sobre o cartopy em algumas semanas.)\n",
    "\n",
    "import cartopy.crs as ccrs\n",
    "\n",
    "# plot quick map with positions\n",
    "plt.figure(figsize=(8,8))\n",
    "ax = plt.axes(projection=ccrs.PlateCarree())\n",
    "ax.gridlines(crs=ccrs.PlateCarree(), draw_labels=True,\n",
    "             linewidth=1, color='gray', alpha=0.5, linestyle='--')\n",
    "ax.coastlines()\n",
    "\n",
    "for profile in floats:\n",
    "    \n",
    "    argo=eval(profile)\n",
    "    \n",
    "    ax.plot(argo['longitude'],\n",
    "            argo['latitude'],\n",
    "            marker='o',\n",
    "            markersize=7,\n",
    "            color='k'\n",
    "           )\n",
    "    \n",
    "    ax.text(argo['longitude']-1.0,\n",
    "            argo['latitude']+1.5,\n",
    "            profile,\n",
    "            color='k',\n",
    "            rotation=60,\n",
    "            fontsize=8\n",
    "           )\n",
    "    \n",
    "ax.set_xlim(-85,25)\n",
    "ax.set_ylim(-70,80)"
   ]
  },
  {
   "cell_type": "markdown",
   "id": "7269f0b9-d092-44c3-91da-fd641b36905f",
   "metadata": {},
   "source": [
    "#### Antes de prosseguir, verifique se os dicionários foram criados."
   ]
  },
  {
   "cell_type": "markdown",
   "id": "39ec4c66-dd09-470c-bd72-d07f9ff9af92",
   "metadata": {},
   "source": [
    "## Passo 3: Cálculo da temperatura potencial e densidade potencial\n",
    "\n",
    "\n",
    "\n",
    "3.1 Utilize a função gsw.pt_from_t para calcular a temperatura potencial a partir da temperatura in-situ para cada flutuador. Adicione os perfis de temperatura potencial aos dicionários, nomeando-os como ptemperature.\n",
    "\n",
    "3.2 Utilize a função gsw.CT_from_pt para calcular a temperatura conservativa a partir da temperatura in-situ para cada flutuador. Adicione os perfis de temperatura conservativa aos dicionários, nomeando-os como ctemperature.\n",
    "\n",
    "3.3 Utilize a função gsw.sigma0 para calcular a densidade potencial em relação à superfície (0 dbar). Adicione a densidade potencial aos dicionários, nomeando-a como sigma0. (Note que sigma é a densidade potencial menos um valor de referência 1000.)\n",
    "\n",
    "Notas:\n",
    "\n",
    "Lembre-se de acessar a ajuda da função usando um ponto de interrogação ?, por exemplo: gsw.sigma0?.\n",
    "As funções acima requerem como entrada a quantidade de \"Salinidade Absoluta\" (SA), que em boa aproximação é a mesma que a salinidade calculada a partir da condutividade pelo CTD nos flutuadores Argo. Para os propósitos deste exercício, você pode usar salinity em vez de SA como entrada para as funções acima.\n",
    "\n",
    "\n",
    "\n"
   ]
  },
  {
   "cell_type": "code",
   "execution_count": null,
   "id": "ea3d278f-a40a-4c7a-9ddb-6732ae6be7da",
   "metadata": {},
   "outputs": [],
   "source": [
    "for float_name in floats:\n",
    "    \n",
    "    print(\"Calculating derived fields for \" + float_name)\n",
    "    \n",
    "    profile = eval(float_name)\n",
    "    \n",
    "    # 3.1\n",
    "    profile['ptemperature'] = gsw.pt_from_t(profile['salinity'],\n",
    "                                            profile['temperature'],\n",
    "                                            profile['pressure'],\n",
    "                                            p_ref=0)\n",
    "    # 3.2\n",
    "    profile['ctemperature'] = gsw.CT_from_pt(profile['salinity'],\n",
    "                                            profile['ptemperature'])\n",
    "\n",
    "    # 3.3\n",
    "    profile['sigma0'] = gsw.sigma0(profile['salinity'],\n",
    "                                   profile['ctemperature'])"
   ]
  },
  {
   "cell_type": "markdown",
   "id": "d8c92d70-096b-4d46-9369-a00ca42b5479",
   "metadata": {},
   "source": [
    "### Passo 4: Perfis simples (propriedade vs. pressão)\n",
    "Crie uma figura com quatro subplots contendo perfis de temperatura potencial (e compare com temperatura in-situ e conservativa), salinidade, densidade potencial e oxigênio dissolvido. Cada subplot deve conter seis perfis, um para cada flutuador. Observe que os perfis de oxigênio têm lacunas, portanto você pode precisar usar um marcador (\".\", \"o\" ou \"-o\") para plotá-lo. Veja https://matplotlib.org/stable/gallery/lines_bars_and_markers/masked_demo.html para alternativas.\n"
   ]
  },
  {
   "cell_type": "code",
   "execution_count": null,
   "id": "9e7eff5e-daa3-4a12-bbdb-522d4ad59fee",
   "metadata": {},
   "outputs": [],
   "source": [
    "floats"
   ]
  },
  {
   "cell_type": "markdown",
   "id": "792adc4b-c39c-4cd1-aff2-7794d0089b2f",
   "metadata": {},
   "source": [
    "### Passo 5: Perfis em função da latitude\n",
    "Utilize a função plt.scatter para criar uma figura que mostre a dependência latitudinal do oxigênio dissolvido. Escolha um mapa de cores apropriado."
   ]
  },
  {
   "cell_type": "markdown",
   "id": "9081a12a-de24-4a4d-b505-8345c9925792",
   "metadata": {},
   "source": [
    "### Passo 6: Gráficos de propriedade-propriedade\n",
    "4.1 Trace um diagrama theta-S, onde theta representa a temperatura potencial, com todos os seis perfis em um único gráfico. Adicione contornos de densidade ao seu diagrama, semelhante a esta figura.\n",
    "\n",
    "4.2 Trace temperatura, salinidade e oxigênio dissolvido em função da densidade potencial."
   ]
  },
  {
   "cell_type": "code",
   "execution_count": null,
   "id": "3fc685d7-f269-4116-a34b-450b6e227cd4",
   "metadata": {},
   "outputs": [],
   "source": []
  }
 ],
 "metadata": {
  "kernelspec": {
   "display_name": "Python 3 (ipykernel)",
   "language": "python",
   "name": "python3"
  },
  "language_info": {
   "codemirror_mode": {
    "name": "ipython",
    "version": 3
   },
   "file_extension": ".py",
   "mimetype": "text/x-python",
   "name": "python",
   "nbconvert_exporter": "python",
   "pygments_lexer": "ipython3",
   "version": "3.10.6"
  }
 },
 "nbformat": 4,
 "nbformat_minor": 5
}
