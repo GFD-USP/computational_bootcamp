{
 "cells": [
  {
   "cell_type": "markdown",
   "id": "7aba97bf-f4ca-4c3f-9848-88988014cd69",
   "metadata": {},
   "source": [
    "# Prática 6: Mapa composto de área de estudo \n",
    "\n",
    "Nesta prática você irá produzir um mapa de uma área de estudo na costa sudeste do Brasil. Você plotará a temperatura da superfície do mar, anotará pontos-chave no mapa e plotará a localização de estações oceanográficas.\n",
    "\n",
    "Instruções:\n",
    "\n",
    "1. Faça os melhores gráficos possíveis, prestando especial atenção aos rótulos, unidades, mapas de cores, etc.\n",
    "2. Salve as figuras em formato .png.\n"
   ]
  },
  {
   "cell_type": "code",
   "execution_count": 2,
   "id": "ca9285b6-22a8-42f9-b0df-c0c8ea7209d1",
   "metadata": {},
   "outputs": [],
   "source": [
    "import numpy as np\n",
    "import xarray as xr\n",
    "import matplotlib.pyplot as plt\n",
    "import gsw\n",
    "import pandas as pd\n",
    "import cartopy.crs as ccrs\n",
    "import cartopy.feature as cfeature"
   ]
  },
  {
   "cell_type": "markdown",
   "id": "9bc09bf1-976e-40bf-b37e-6c176113756e",
   "metadata": {},
   "source": [
    "# Passo 1: mapa base\n",
    "\n",
    "Utilize o cartopy para plote um mapa da região sudeste do Brasil, compreendido entre lon_lim = [-50, -40] e lat_lim = [ -32, -22]. Plote a linha de costa, o continente,a fronteira dos estados e os rios."
   ]
  },
  {
   "cell_type": "markdown",
   "id": "134d3c8f-bd17-409e-9e36-5478e45137ff",
   "metadata": {},
   "source": [
    "# Passo 2: dados de SST\n",
    "\n",
    "Utilizando os dados da NOAA disponíveis em http://psl.noaa.gov/thredds/dodsC/Datasets/noaa.oisst.v2.highres/, plote o mapa de temperatura da superfície do mar (SST, na sigla em inglês) no mapa produzido no passo 1. Lembre-se que SST = média mensal + anomalia."
   ]
  },
  {
   "cell_type": "markdown",
   "id": "1a23b3db-8fcd-418b-9a59-670e1e5d75b3",
   "metadata": {},
   "source": [
    "# Passo 3: dados de topografia\n",
    "\n",
    "Utilizando do ETOPO1 disponíveis em http://geoport.whoi.edu/thredds/dodsC/bathy/etopo1_bed_g2, plote em seu mapa em linhas finas pretas os contornos associados às isobatas de 200, 1000, 2000 e 3000 m."
   ]
  },
  {
   "cell_type": "markdown",
   "id": "94bba01a-f747-4893-abe0-b501bac7cd52",
   "metadata": {},
   "source": [
    "# Passo 4: posições de estações oceanográficas\n",
    "\n",
    "O arquivo /data/misc/CTD_stations_SANBIF.csv contém as posições de estações de CTD planejadas para o cruzeiro do projeto SANBIF. Plote as estações em seu mapa as posições dessas estações oceanográficas em triângulos vermelhos."
   ]
  }
 ],
 "metadata": {
  "kernelspec": {
   "display_name": "Python 3 (ipykernel)",
   "language": "python",
   "name": "python3"
  },
  "language_info": {
   "codemirror_mode": {
    "name": "ipython",
    "version": 3
   },
   "file_extension": ".py",
   "mimetype": "text/x-python",
   "name": "python",
   "nbconvert_exporter": "python",
   "pygments_lexer": "ipython3",
   "version": "3.10.6"
  }
 },
 "nbformat": 4,
 "nbformat_minor": 5
}
