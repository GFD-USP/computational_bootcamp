{
 "cells": [
  {
   "cell_type": "markdown",
   "id": "fcdf76ff-1a29-4883-bd2f-047dbf9b850e",
   "metadata": {},
   "source": [
    "# Prática 3: Aumento do nível do mar em Cananéia, SP\n",
    "\n",
    "Você trabalhará com dados de uma série histórico de nível do mar na base do IO em Cananéia de 1954 até 2006 (em breve teremos os dados até o presente)"
   ]
  },
  {
   "cell_type": "code",
   "execution_count": 1,
   "id": "b982d371-0855-47ea-a2a4-71c21cd493c2",
   "metadata": {},
   "outputs": [],
   "source": [
    "import pandas as pd\n",
    "import numpy as np\n",
    "import datetime\n",
    "import matplotlib.pyplot as plt"
   ]
  },
  {
   "cell_type": "markdown",
   "id": "76a6d44a-8eed-4a42-b431-9f7b85faea12",
   "metadata": {},
   "source": [
    "### Passo 1: carregue os dados em um _pandas_ _dataframe_\n",
    "\n",
    "Os dados estão disponíveis em: https://tidesandcurrents.noaa.gov/sltrends/sltrends_station.shtml?id=874-051. Para obter o url com o arquivo de dados, clique em \"Export to text\"."
   ]
  },
  {
   "cell_type": "code",
   "execution_count": 2,
   "id": "09a3fc0b-8f76-44e3-a3f1-c82006d0f1d4",
   "metadata": {},
   "outputs": [],
   "source": [
    "url = 'https://tidesandcurrents.noaa.gov/sltrends/data/874-051_meantrend.txt'\n",
    "\n",
    "# baseado na leitura do cabeçalho do arquivo, define o nome das colunas\n",
    "cols=['year','month','sealevel','linear_trend','high_conf','low_cong']\n",
    "\n",
    "# leia os dados direto da Web, pulando o cabeçalho e considerando apenas as três primeira columnas\n",
    "df = pd.read_csv(url,header=6,delim_whitespace=True,names=cols,usecols=['year','month','sealevel'])"
   ]
  },
  {
   "cell_type": "code",
   "execution_count": 3,
   "id": "13ac423b-e2b8-4725-b678-4a78efa535e0",
   "metadata": {},
   "outputs": [
    {
     "data": {
      "text/html": [
       "<div>\n",
       "<style scoped>\n",
       "    .dataframe tbody tr th:only-of-type {\n",
       "        vertical-align: middle;\n",
       "    }\n",
       "\n",
       "    .dataframe tbody tr th {\n",
       "        vertical-align: top;\n",
       "    }\n",
       "\n",
       "    .dataframe thead th {\n",
       "        text-align: right;\n",
       "    }\n",
       "</style>\n",
       "<table border=\"1\" class=\"dataframe\">\n",
       "  <thead>\n",
       "    <tr style=\"text-align: right;\">\n",
       "      <th></th>\n",
       "      <th>year</th>\n",
       "      <th>month</th>\n",
       "      <th>sealevel</th>\n",
       "    </tr>\n",
       "  </thead>\n",
       "  <tbody>\n",
       "    <tr>\n",
       "      <th>0</th>\n",
       "      <td>1954</td>\n",
       "      <td>5</td>\n",
       "      <td>6.871</td>\n",
       "    </tr>\n",
       "    <tr>\n",
       "      <th>1</th>\n",
       "      <td>1954</td>\n",
       "      <td>6</td>\n",
       "      <td>6.809</td>\n",
       "    </tr>\n",
       "    <tr>\n",
       "      <th>2</th>\n",
       "      <td>1954</td>\n",
       "      <td>7</td>\n",
       "      <td>6.800</td>\n",
       "    </tr>\n",
       "    <tr>\n",
       "      <th>3</th>\n",
       "      <td>1954</td>\n",
       "      <td>8</td>\n",
       "      <td>6.776</td>\n",
       "    </tr>\n",
       "    <tr>\n",
       "      <th>4</th>\n",
       "      <td>1954</td>\n",
       "      <td>9</td>\n",
       "      <td>6.834</td>\n",
       "    </tr>\n",
       "    <tr>\n",
       "      <th>...</th>\n",
       "      <td>...</td>\n",
       "      <td>...</td>\n",
       "      <td>...</td>\n",
       "    </tr>\n",
       "    <tr>\n",
       "      <th>608</th>\n",
       "      <td>2006</td>\n",
       "      <td>8</td>\n",
       "      <td>7.182</td>\n",
       "    </tr>\n",
       "    <tr>\n",
       "      <th>609</th>\n",
       "      <td>2006</td>\n",
       "      <td>9</td>\n",
       "      <td>7.157</td>\n",
       "    </tr>\n",
       "    <tr>\n",
       "      <th>610</th>\n",
       "      <td>2006</td>\n",
       "      <td>10</td>\n",
       "      <td>7.071</td>\n",
       "    </tr>\n",
       "    <tr>\n",
       "      <th>611</th>\n",
       "      <td>2006</td>\n",
       "      <td>11</td>\n",
       "      <td>7.121</td>\n",
       "    </tr>\n",
       "    <tr>\n",
       "      <th>612</th>\n",
       "      <td>2006</td>\n",
       "      <td>12</td>\n",
       "      <td>6.994</td>\n",
       "    </tr>\n",
       "  </tbody>\n",
       "</table>\n",
       "<p>613 rows × 3 columns</p>\n",
       "</div>"
      ],
      "text/plain": [
       "     year  month  sealevel\n",
       "0    1954      5     6.871\n",
       "1    1954      6     6.809\n",
       "2    1954      7     6.800\n",
       "3    1954      8     6.776\n",
       "4    1954      9     6.834\n",
       "..    ...    ...       ...\n",
       "608  2006      8     7.182\n",
       "609  2006      9     7.157\n",
       "610  2006     10     7.071\n",
       "611  2006     11     7.121\n",
       "612  2006     12     6.994\n",
       "\n",
       "[613 rows x 3 columns]"
      ]
     },
     "execution_count": 3,
     "metadata": {},
     "output_type": "execute_result"
    }
   ],
   "source": [
    "df"
   ]
  },
  {
   "cell_type": "markdown",
   "id": "f56288b7-a512-4997-8e28-517ecbdbaa2d",
   "metadata": {},
   "source": [
    "### Passo 2: crie uma série de datas \n",
    "\n",
    "Os dados estão disponível como médias mensais de nível do mar para cada ano/mês. Para trabalhar mais facilmente com os dados, criar um `timestamp` que é melhor entendido pelo python em cálculos e plotagens. A função `datatime` requer a especificação do dia, além dê mês e ano. Como estamos trabalhando com médias mensais, escolhemos `day=15` como representativo do meio do mês."
   ]
  },
  {
   "cell_type": "code",
   "execution_count": 18,
   "id": "68031187-79b9-4ef9-95ca-ef7142e44362",
   "metadata": {},
   "outputs": [],
   "source": [
    "# cria array de datetime64 e o coloca no dataframe de nível do mar\n",
    "time =  [np.datetime64(datetime.datetime(year=df['year'][k],month=df['month'][k],day=1))\n",
    "    for k in range(len(df['year']))]\n",
    "\n",
    "time = np.array(time)\n",
    "\n",
    "# coloca a variável time em df\n",
    "df['time'] = pd.to_datetime(time)\n",
    "\n",
    "# indexa a série de tempo com a variável time\n",
    "df = df.set_index('time')"
   ]
  },
  {
   "cell_type": "code",
   "execution_count": 19,
   "id": "e901e014-8161-4b4e-a12b-cc3104ab748c",
   "metadata": {},
   "outputs": [
    {
     "data": {
      "text/html": [
       "<div>\n",
       "<style scoped>\n",
       "    .dataframe tbody tr th:only-of-type {\n",
       "        vertical-align: middle;\n",
       "    }\n",
       "\n",
       "    .dataframe tbody tr th {\n",
       "        vertical-align: top;\n",
       "    }\n",
       "\n",
       "    .dataframe thead th {\n",
       "        text-align: right;\n",
       "    }\n",
       "</style>\n",
       "<table border=\"1\" class=\"dataframe\">\n",
       "  <thead>\n",
       "    <tr style=\"text-align: right;\">\n",
       "      <th></th>\n",
       "      <th>year</th>\n",
       "      <th>month</th>\n",
       "      <th>sealevel</th>\n",
       "    </tr>\n",
       "    <tr>\n",
       "      <th>time</th>\n",
       "      <th></th>\n",
       "      <th></th>\n",
       "      <th></th>\n",
       "    </tr>\n",
       "  </thead>\n",
       "  <tbody>\n",
       "    <tr>\n",
       "      <th>1954-05-01</th>\n",
       "      <td>1954</td>\n",
       "      <td>5</td>\n",
       "      <td>6.871</td>\n",
       "    </tr>\n",
       "    <tr>\n",
       "      <th>1954-06-01</th>\n",
       "      <td>1954</td>\n",
       "      <td>6</td>\n",
       "      <td>6.809</td>\n",
       "    </tr>\n",
       "    <tr>\n",
       "      <th>1954-07-01</th>\n",
       "      <td>1954</td>\n",
       "      <td>7</td>\n",
       "      <td>6.800</td>\n",
       "    </tr>\n",
       "    <tr>\n",
       "      <th>1954-08-01</th>\n",
       "      <td>1954</td>\n",
       "      <td>8</td>\n",
       "      <td>6.776</td>\n",
       "    </tr>\n",
       "    <tr>\n",
       "      <th>1954-09-01</th>\n",
       "      <td>1954</td>\n",
       "      <td>9</td>\n",
       "      <td>6.834</td>\n",
       "    </tr>\n",
       "    <tr>\n",
       "      <th>...</th>\n",
       "      <td>...</td>\n",
       "      <td>...</td>\n",
       "      <td>...</td>\n",
       "    </tr>\n",
       "    <tr>\n",
       "      <th>2006-08-01</th>\n",
       "      <td>2006</td>\n",
       "      <td>8</td>\n",
       "      <td>7.182</td>\n",
       "    </tr>\n",
       "    <tr>\n",
       "      <th>2006-09-01</th>\n",
       "      <td>2006</td>\n",
       "      <td>9</td>\n",
       "      <td>7.157</td>\n",
       "    </tr>\n",
       "    <tr>\n",
       "      <th>2006-10-01</th>\n",
       "      <td>2006</td>\n",
       "      <td>10</td>\n",
       "      <td>7.071</td>\n",
       "    </tr>\n",
       "    <tr>\n",
       "      <th>2006-11-01</th>\n",
       "      <td>2006</td>\n",
       "      <td>11</td>\n",
       "      <td>7.121</td>\n",
       "    </tr>\n",
       "    <tr>\n",
       "      <th>2006-12-01</th>\n",
       "      <td>2006</td>\n",
       "      <td>12</td>\n",
       "      <td>6.994</td>\n",
       "    </tr>\n",
       "  </tbody>\n",
       "</table>\n",
       "<p>613 rows × 3 columns</p>\n",
       "</div>"
      ],
      "text/plain": [
       "            year  month  sealevel\n",
       "time                             \n",
       "1954-05-01  1954      5     6.871\n",
       "1954-06-01  1954      6     6.809\n",
       "1954-07-01  1954      7     6.800\n",
       "1954-08-01  1954      8     6.776\n",
       "1954-09-01  1954      9     6.834\n",
       "...          ...    ...       ...\n",
       "2006-08-01  2006      8     7.182\n",
       "2006-09-01  2006      9     7.157\n",
       "2006-10-01  2006     10     7.071\n",
       "2006-11-01  2006     11     7.121\n",
       "2006-12-01  2006     12     6.994\n",
       "\n",
       "[613 rows x 3 columns]"
      ]
     },
     "execution_count": 19,
     "metadata": {},
     "output_type": "execute_result"
    }
   ],
   "source": [
    "df"
   ]
  },
  {
   "cell_type": "markdown",
   "id": "1be7b8eb-6af1-42f3-9cc7-f12e0d0b0c45",
   "metadata": {},
   "source": [
    "### Passo 3: Visualize os dados\n",
    "\n",
    "Plote a série temporal de nível médio do mar. Lembre-se de colocar labels no gráfico. Escreva algumas anotações sobre seu gráfico. Qual comportamento do nível do mar ao longo das décadas? Qual amplitude da variabilidade? Estimate visualmente a taxa de aumento do nível do mar nos últimos 50 anos."
   ]
  },
  {
   "cell_type": "markdown",
   "id": "cd18650d-273c-4737-82ef-f1a5cf17d1dc",
   "metadata": {},
   "source": [
    "### Passo 4:  Estime a tendência linear do nível do mar\n",
    "\n",
    "Utilizando a função `np.polyfit`, ajuste uma reta $y = a + b t$ (polinômio de grau 1) à série temporal de nível do mar. A inclinação da reta $b$ é a tedência linear, que deve ser apresentada em mm/ano. **Compare** os resultados com a estimativa visual que você fez no Passo 3. **Visualize** a reta ajustada, plotando-a junto com a série temporal do nível do mar. \n",
    "\n",
    "Você deve obter algo assim:\n",
    "\n",
    "<br>\n",
    "<img src=https://raw.githubusercontent.com/f-lab-USP/computational_bootcamp/main/python/img/niveldomar_mediamensal_cananeia.png>\n",
    "</br>"
   ]
  },
  {
   "cell_type": "code",
   "execution_count": 6,
   "id": "d3941cf2-43ac-4caa-bc24-066818156918",
   "metadata": {},
   "outputs": [],
   "source": [
    "# DICA: para utilizar  a função polyfit, você precisará de um variável `tempo decorrido` (elapsed time)\n",
    "#  desde o início da série temporal. Aqui, aproveitamos a variável `time`. A diferença entre time e\n",
    "# time[0] é o tempo decorrido em micro-segundos. Precisamos converte este tempo decorrido para fração de ano:\n",
    "time_years = (time-time[0]).astype('float')/1.e6/86400/365"
   ]
  },
  {
   "cell_type": "markdown",
   "id": "9a062e29-489c-4b85-989f-6dc078c4d780",
   "metadata": {},
   "source": [
    "### Passo 5: Cálcule a média anual do nível médio do mar e repita o cálculo de tendência\n",
    "\n",
    "Utilizando a função `groupby` do pandas, calcule a média anual do nível do mar.  **Repita** o cálculo de tendência, compare o resultado com a estimativa baseada em médias mensais. **Visualize** os resultados. \n",
    "\n",
    "Você deve obter algo assim:\n",
    "\n",
    "\n",
    "<br>\n",
    "<img src=https://raw.githubusercontent.com/f-lab-USP/computational_bootcamp/main/python/img/niveldomar_mediamensal_mediaanual_cananeia.png>\n",
    "</br>\n"
   ]
  },
  {
   "cell_type": "markdown",
   "id": "d917ff6f-fda7-448a-aa46-2ec4e41266b4",
   "metadata": {},
   "source": [
    "### Passo 6: Remova a tendência do nível médio do mar e estude a variabilidade inter-annual\n",
    "\n",
    "Utilizando dos dados promediados anualmente, remova a tendência linear e obtenha uma séria temporal de anomalia do nível do mar. **Calcule** as estatísticas básicas da anomalia do nível do mar utilizando a função `describe` do pandas.  **Visualize** o resultado, indicando em que períodos em que a anomalia do nível do mar foi positiva  e negativa.\n",
    "\n",
    "\n",
    "Você deve obter algo assim:\n",
    "\n",
    "<br>\n",
    "<img src=https://raw.githubusercontent.com/f-lab-USP/computational_bootcamp/main/python/img/anomalia_niveldomar_cananeia.png>\n",
    "</br>"
   ]
  },
  {
   "cell_type": "markdown",
   "id": "06a5a642-ed7e-4d5c-943c-aadc4a9e5802",
   "metadata": {},
   "source": [
    "### Passo 7: Calcule a correlação entre nível médio do mar anual e o nível de CO2 atmosférico\n",
    "Carregue os dados da curva de Keeling (lembre-se do Tutorial 3) e utilize a função `np.corrcoef` para calcular a correlação entre o nível do mar médio anual (com tendência linear) e a concentração de CO2 atmosférico.  Discuta os resultados e especule sobre as causas do aumento do nível do mar em Cananéia."
   ]
  },
  {
   "cell_type": "code",
   "execution_count": 13,
   "id": "adfcd59a-3849-4c85-89ed-fe67b7cbe6ec",
   "metadata": {},
   "outputs": [],
   "source": [
    "url = 'https://datahub.io/core/co2-ppm/r/co2-mm-mlo.csv'\n",
    "mlo = pd.read_csv(url,sep=',')\n",
    "\n",
    "# remove negative values (flag para ausência de dados)\n",
    "mlo = mlo.where(mlo.Average>0).dropna()"
   ]
  },
  {
   "cell_type": "code",
   "execution_count": 14,
   "id": "811cd4c3-9515-49b2-91e1-01fccf75a0bd",
   "metadata": {},
   "outputs": [
    {
     "data": {
      "text/html": [
       "<div>\n",
       "<style scoped>\n",
       "    .dataframe tbody tr th:only-of-type {\n",
       "        vertical-align: middle;\n",
       "    }\n",
       "\n",
       "    .dataframe tbody tr th {\n",
       "        vertical-align: top;\n",
       "    }\n",
       "\n",
       "    .dataframe thead th {\n",
       "        text-align: right;\n",
       "    }\n",
       "</style>\n",
       "<table border=\"1\" class=\"dataframe\">\n",
       "  <thead>\n",
       "    <tr style=\"text-align: right;\">\n",
       "      <th></th>\n",
       "      <th>Date</th>\n",
       "      <th>Decimal Date</th>\n",
       "      <th>Average</th>\n",
       "      <th>Interpolated</th>\n",
       "      <th>Trend</th>\n",
       "      <th>Number of Days</th>\n",
       "    </tr>\n",
       "  </thead>\n",
       "  <tbody>\n",
       "    <tr>\n",
       "      <th>0</th>\n",
       "      <td>1958-03-01</td>\n",
       "      <td>1958.208</td>\n",
       "      <td>315.71</td>\n",
       "      <td>315.71</td>\n",
       "      <td>314.62</td>\n",
       "      <td>-1.0</td>\n",
       "    </tr>\n",
       "    <tr>\n",
       "      <th>1</th>\n",
       "      <td>1958-04-01</td>\n",
       "      <td>1958.292</td>\n",
       "      <td>317.45</td>\n",
       "      <td>317.45</td>\n",
       "      <td>315.29</td>\n",
       "      <td>-1.0</td>\n",
       "    </tr>\n",
       "    <tr>\n",
       "      <th>2</th>\n",
       "      <td>1958-05-01</td>\n",
       "      <td>1958.375</td>\n",
       "      <td>317.50</td>\n",
       "      <td>317.50</td>\n",
       "      <td>314.71</td>\n",
       "      <td>-1.0</td>\n",
       "    </tr>\n",
       "    <tr>\n",
       "      <th>4</th>\n",
       "      <td>1958-07-01</td>\n",
       "      <td>1958.542</td>\n",
       "      <td>315.86</td>\n",
       "      <td>315.86</td>\n",
       "      <td>314.98</td>\n",
       "      <td>-1.0</td>\n",
       "    </tr>\n",
       "    <tr>\n",
       "      <th>5</th>\n",
       "      <td>1958-08-01</td>\n",
       "      <td>1958.625</td>\n",
       "      <td>314.93</td>\n",
       "      <td>314.93</td>\n",
       "      <td>315.94</td>\n",
       "      <td>-1.0</td>\n",
       "    </tr>\n",
       "    <tr>\n",
       "      <th>...</th>\n",
       "      <td>...</td>\n",
       "      <td>...</td>\n",
       "      <td>...</td>\n",
       "      <td>...</td>\n",
       "      <td>...</td>\n",
       "      <td>...</td>\n",
       "    </tr>\n",
       "    <tr>\n",
       "      <th>722</th>\n",
       "      <td>2018-05-01</td>\n",
       "      <td>2018.375</td>\n",
       "      <td>411.24</td>\n",
       "      <td>411.24</td>\n",
       "      <td>407.91</td>\n",
       "      <td>24.0</td>\n",
       "    </tr>\n",
       "    <tr>\n",
       "      <th>723</th>\n",
       "      <td>2018-06-01</td>\n",
       "      <td>2018.458</td>\n",
       "      <td>410.79</td>\n",
       "      <td>410.79</td>\n",
       "      <td>408.49</td>\n",
       "      <td>29.0</td>\n",
       "    </tr>\n",
       "    <tr>\n",
       "      <th>724</th>\n",
       "      <td>2018-07-01</td>\n",
       "      <td>2018.542</td>\n",
       "      <td>408.71</td>\n",
       "      <td>408.71</td>\n",
       "      <td>408.32</td>\n",
       "      <td>27.0</td>\n",
       "    </tr>\n",
       "    <tr>\n",
       "      <th>725</th>\n",
       "      <td>2018-08-01</td>\n",
       "      <td>2018.625</td>\n",
       "      <td>406.99</td>\n",
       "      <td>406.99</td>\n",
       "      <td>408.90</td>\n",
       "      <td>30.0</td>\n",
       "    </tr>\n",
       "    <tr>\n",
       "      <th>726</th>\n",
       "      <td>2018-09-01</td>\n",
       "      <td>2018.708</td>\n",
       "      <td>405.51</td>\n",
       "      <td>405.51</td>\n",
       "      <td>409.02</td>\n",
       "      <td>29.0</td>\n",
       "    </tr>\n",
       "  </tbody>\n",
       "</table>\n",
       "<p>720 rows × 6 columns</p>\n",
       "</div>"
      ],
      "text/plain": [
       "           Date  Decimal Date  Average  Interpolated   Trend  Number of Days\n",
       "0    1958-03-01      1958.208   315.71        315.71  314.62            -1.0\n",
       "1    1958-04-01      1958.292   317.45        317.45  315.29            -1.0\n",
       "2    1958-05-01      1958.375   317.50        317.50  314.71            -1.0\n",
       "4    1958-07-01      1958.542   315.86        315.86  314.98            -1.0\n",
       "5    1958-08-01      1958.625   314.93        314.93  315.94            -1.0\n",
       "..          ...           ...      ...           ...     ...             ...\n",
       "722  2018-05-01      2018.375   411.24        411.24  407.91            24.0\n",
       "723  2018-06-01      2018.458   410.79        410.79  408.49            29.0\n",
       "724  2018-07-01      2018.542   408.71        408.71  408.32            27.0\n",
       "725  2018-08-01      2018.625   406.99        406.99  408.90            30.0\n",
       "726  2018-09-01      2018.708   405.51        405.51  409.02            29.0\n",
       "\n",
       "[720 rows x 6 columns]"
      ]
     },
     "execution_count": 14,
     "metadata": {},
     "output_type": "execute_result"
    }
   ],
   "source": [
    "mlo"
   ]
  },
  {
   "cell_type": "code",
   "execution_count": 15,
   "id": "a701171c-bac4-4289-ae10-518135546f1d",
   "metadata": {},
   "outputs": [],
   "source": [
    "time_mlo =  [np.datetime64(mlo.Date[k]) \n",
    "    for k in mlo.index]\n",
    "\n",
    "time_mlo = np.array(time_mlo)\n",
    "mlo = mlo.set_index(time_mlo)"
   ]
  },
  {
   "cell_type": "code",
   "execution_count": 16,
   "id": "d501bd8a-42c5-402f-85bf-6960f8fa8392",
   "metadata": {},
   "outputs": [
    {
     "data": {
      "text/plain": [
       "DatetimeIndex(['1958-03-01', '1958-04-01', '1958-05-01', '1958-07-01',\n",
       "               '1958-08-01', '1958-09-01', '1958-11-01', '1958-12-01',\n",
       "               '1959-01-01', '1959-02-01',\n",
       "               ...\n",
       "               '2017-12-01', '2018-01-01', '2018-02-01', '2018-03-01',\n",
       "               '2018-04-01', '2018-05-01', '2018-06-01', '2018-07-01',\n",
       "               '2018-08-01', '2018-09-01'],\n",
       "              dtype='datetime64[ns]', length=720, freq=None)"
      ]
     },
     "execution_count": 16,
     "metadata": {},
     "output_type": "execute_result"
    }
   ],
   "source": [
    "mlo.index\n"
   ]
  },
  {
   "cell_type": "code",
   "execution_count": 17,
   "id": "bf81d8bc-4bbf-4272-89d8-b40eb3abf3eb",
   "metadata": {},
   "outputs": [
    {
     "data": {
      "text/html": [
       "<div>\n",
       "<style scoped>\n",
       "    .dataframe tbody tr th:only-of-type {\n",
       "        vertical-align: middle;\n",
       "    }\n",
       "\n",
       "    .dataframe tbody tr th {\n",
       "        vertical-align: top;\n",
       "    }\n",
       "\n",
       "    .dataframe thead th {\n",
       "        text-align: right;\n",
       "    }\n",
       "</style>\n",
       "<table border=\"1\" class=\"dataframe\">\n",
       "  <thead>\n",
       "    <tr style=\"text-align: right;\">\n",
       "      <th></th>\n",
       "      <th>year</th>\n",
       "      <th>month</th>\n",
       "      <th>sealevel</th>\n",
       "    </tr>\n",
       "    <tr>\n",
       "      <th>time</th>\n",
       "      <th></th>\n",
       "      <th></th>\n",
       "      <th></th>\n",
       "    </tr>\n",
       "  </thead>\n",
       "  <tbody>\n",
       "    <tr>\n",
       "      <th>1954-05-15</th>\n",
       "      <td>1954</td>\n",
       "      <td>5</td>\n",
       "      <td>6.871</td>\n",
       "    </tr>\n",
       "    <tr>\n",
       "      <th>1954-06-15</th>\n",
       "      <td>1954</td>\n",
       "      <td>6</td>\n",
       "      <td>6.809</td>\n",
       "    </tr>\n",
       "    <tr>\n",
       "      <th>1954-07-15</th>\n",
       "      <td>1954</td>\n",
       "      <td>7</td>\n",
       "      <td>6.800</td>\n",
       "    </tr>\n",
       "    <tr>\n",
       "      <th>1954-08-15</th>\n",
       "      <td>1954</td>\n",
       "      <td>8</td>\n",
       "      <td>6.776</td>\n",
       "    </tr>\n",
       "    <tr>\n",
       "      <th>1954-09-15</th>\n",
       "      <td>1954</td>\n",
       "      <td>9</td>\n",
       "      <td>6.834</td>\n",
       "    </tr>\n",
       "    <tr>\n",
       "      <th>...</th>\n",
       "      <td>...</td>\n",
       "      <td>...</td>\n",
       "      <td>...</td>\n",
       "    </tr>\n",
       "    <tr>\n",
       "      <th>2006-08-15</th>\n",
       "      <td>2006</td>\n",
       "      <td>8</td>\n",
       "      <td>7.182</td>\n",
       "    </tr>\n",
       "    <tr>\n",
       "      <th>2006-09-15</th>\n",
       "      <td>2006</td>\n",
       "      <td>9</td>\n",
       "      <td>7.157</td>\n",
       "    </tr>\n",
       "    <tr>\n",
       "      <th>2006-10-15</th>\n",
       "      <td>2006</td>\n",
       "      <td>10</td>\n",
       "      <td>7.071</td>\n",
       "    </tr>\n",
       "    <tr>\n",
       "      <th>2006-11-15</th>\n",
       "      <td>2006</td>\n",
       "      <td>11</td>\n",
       "      <td>7.121</td>\n",
       "    </tr>\n",
       "    <tr>\n",
       "      <th>2006-12-15</th>\n",
       "      <td>2006</td>\n",
       "      <td>12</td>\n",
       "      <td>6.994</td>\n",
       "    </tr>\n",
       "  </tbody>\n",
       "</table>\n",
       "<p>613 rows × 3 columns</p>\n",
       "</div>"
      ],
      "text/plain": [
       "            year  month  sealevel\n",
       "time                             \n",
       "1954-05-15  1954      5     6.871\n",
       "1954-06-15  1954      6     6.809\n",
       "1954-07-15  1954      7     6.800\n",
       "1954-08-15  1954      8     6.776\n",
       "1954-09-15  1954      9     6.834\n",
       "...          ...    ...       ...\n",
       "2006-08-15  2006      8     7.182\n",
       "2006-09-15  2006      9     7.157\n",
       "2006-10-15  2006     10     7.071\n",
       "2006-11-15  2006     11     7.121\n",
       "2006-12-15  2006     12     6.994\n",
       "\n",
       "[613 rows x 3 columns]"
      ]
     },
     "execution_count": 17,
     "metadata": {},
     "output_type": "execute_result"
    }
   ],
   "source": [
    "df"
   ]
  },
  {
   "cell_type": "code",
   "execution_count": 20,
   "id": "e1e8ad47-6c8e-49c6-b14b-5e764c39c02b",
   "metadata": {},
   "outputs": [],
   "source": [
    "# acha os indices de intersecao\n",
    "idx = df.index.intersection(mlo.index)"
   ]
  },
  {
   "cell_type": "code",
   "execution_count": 21,
   "id": "b063f24d-e3db-4191-be11-e08986747cb0",
   "metadata": {},
   "outputs": [
    {
     "data": {
      "text/plain": [
       "DatetimeIndex(['1958-03-01', '1958-04-01', '1958-05-01', '1958-07-01',\n",
       "               '1958-08-01', '1958-09-01', '1958-11-01', '1958-12-01',\n",
       "               '1959-01-01', '1959-02-01',\n",
       "               ...\n",
       "               '2004-10-01', '2004-11-01', '2004-12-01', '2006-06-01',\n",
       "               '2006-07-01', '2006-08-01', '2006-09-01', '2006-10-01',\n",
       "               '2006-11-01', '2006-12-01'],\n",
       "              dtype='datetime64[ns]', length=560, freq=None)"
      ]
     },
     "execution_count": 21,
     "metadata": {},
     "output_type": "execute_result"
    }
   ],
   "source": [
    "idx"
   ]
  },
  {
   "cell_type": "code",
   "execution_count": 24,
   "id": "7e6786a6-1657-4698-92cb-0bcc6e8f2906",
   "metadata": {},
   "outputs": [],
   "source": [
    "df_subset = df.loc[idx]\n",
    "mlo_subset = mlo.loc[idx]"
   ]
  },
  {
   "cell_type": "code",
   "execution_count": 25,
   "id": "640b8184-d54b-4830-acda-265acb94096a",
   "metadata": {},
   "outputs": [
    {
     "data": {
      "text/plain": [
       "(560, 560)"
      ]
     },
     "execution_count": 25,
     "metadata": {},
     "output_type": "execute_result"
    }
   ],
   "source": [
    "len(df_subset), len(mlo_subset)"
   ]
  },
  {
   "cell_type": "code",
   "execution_count": 27,
   "id": "220e4f9b-14f9-427d-81e4-a962b645ceb2",
   "metadata": {},
   "outputs": [
    {
     "data": {
      "text/plain": [
       "0.64"
      ]
     },
     "execution_count": 27,
     "metadata": {},
     "output_type": "execute_result"
    }
   ],
   "source": [
    "# calcula coeficiente de correlacao\n",
    "coefs = np.corrcoef(df_subset.sealevel,mlo_subset.Average)\n",
    "corr_coef = np.round(coefs[0,1],2)\n",
    "corr_coef"
   ]
  },
  {
   "cell_type": "code",
   "execution_count": 28,
   "id": "904908fb-b042-4d5f-a957-d9e38d20293d",
   "metadata": {},
   "outputs": [],
   "source": [
    "# calculata ajuste de reta\n",
    "b3, a3 = np.polyfit(mlo_subset.Average,df_subset.sealevel,deg=1)"
   ]
  },
  {
   "cell_type": "code",
   "execution_count": 29,
   "id": "119b666b-fba4-452f-8360-70df605df35f",
   "metadata": {},
   "outputs": [
    {
     "data": {
      "text/plain": [
       "Text(0.5, 1.0, 'Coeficiente de correlação: 0.64')"
      ]
     },
     "execution_count": 29,
     "metadata": {},
     "output_type": "execute_result"
    },
    {
     "data": {
      "image/png": "[encoded data removed]",
      "text/plain": [
       "<Figure size 800x600 with 1 Axes>"
      ]
     },
     "metadata": {},
     "output_type": "display_data"
    }
   ],
   "source": [
    "fig, ax = plt.subplots(figsize=(8,6))\n",
    "ax.scatter(mlo_subset.Average, df_subset.sealevel)\n",
    "ax.plot(mlo_subset.Average, a3 + b3*mlo_subset.Average,color='C1')\n",
    "ax.set_xlabel('CO$_2$ atmosférico [ppm]')\n",
    "ax.set_ylabel('Nível do mar em Cananéia  [m]')\n",
    "plt.title('Coeficiente de correlação: {}'.format(corr_coef))"
   ]
  },
  {
   "cell_type": "code",
   "execution_count": null,
   "id": "097b137c-5cc6-4042-9f03-3e23f70490c3",
   "metadata": {},
   "outputs": [],
   "source": []
  }
 ],
 "metadata": {
  "kernelspec": {
   "display_name": "Python 3 (ipykernel)",
   "language": "python",
   "name": "python3"
  },
  "language_info": {
   "codemirror_mode": {
    "name": "ipython",
    "version": 3
   },
   "file_extension": ".py",
   "mimetype": "text/x-python",
   "name": "python",
   "nbconvert_exporter": "python",
   "pygments_lexer": "ipython3",
   "version": "3.10.6"
  }
 },
 "nbformat": 4,
 "nbformat_minor": 5
}
