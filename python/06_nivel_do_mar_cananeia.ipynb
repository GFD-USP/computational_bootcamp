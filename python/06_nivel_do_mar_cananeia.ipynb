{
 "cells": [
  {
   "cell_type": "markdown",
   "id": "fcdf76ff-1a29-4883-bd2f-047dbf9b850e",
   "metadata": {},
   "source": [
    "# Prática 3: Aumento do nível do mar em Cananéia, SP\n",
    "\n",
    "Você trabalhará com dados de uma série histórico de nível do mar na base do IO em Cananéia de 1954 até 2006 (em breve teremos os dados até o presente)"
   ]
  },
  {
   "cell_type": "code",
   "execution_count": 546,
   "id": "b982d371-0855-47ea-a2a4-71c21cd493c2",
   "metadata": {},
   "outputs": [],
   "source": [
    "import pandas as pd\n",
    "import numpy as np\n",
    "import datetime\n",
    "import matplotlib.pyplot as plt"
   ]
  },
  {
   "cell_type": "markdown",
   "id": "76a6d44a-8eed-4a42-b431-9f7b85faea12",
   "metadata": {},
   "source": [
    "### Passo 1: carregue os dados em um _pandas_ _dataframe_\n",
    "\n",
    "Os dados estão disponíveis em: https://tidesandcurrents.noaa.gov/sltrends/sltrends_station.shtml?id=874-051. Para obter o url com o arquivo de dados, clique em \"Export to text\"."
   ]
  },
  {
   "cell_type": "code",
   "execution_count": 552,
   "id": "09a3fc0b-8f76-44e3-a3f1-c82006d0f1d4",
   "metadata": {},
   "outputs": [],
   "source": [
    "url = 'https://tidesandcurrents.noaa.gov/sltrends/data/874-051_meantrend.txt'\n",
    "\n",
    "# baseado na leitura do cabeçalho do arquivo, define o nome das colunas\n",
    "cols=['year','month','sealevel','linear_trend','high_conf','low_cong']\n",
    "\n",
    "# leia os dados direto da Web, pulando o cabeçalho e considerando apenas as três primeira columnas\n",
    "df = pd.read_csv(url,header=6,delim_whitespace=True,names=cols,usecols=['year','month','sealevel'])"
   ]
  },
  {
   "cell_type": "code",
   "execution_count": 553,
   "id": "13ac423b-e2b8-4725-b678-4a78efa535e0",
   "metadata": {},
   "outputs": [
    {
     "data": {
      "text/html": [
       "<div>\n",
       "<style scoped>\n",
       "    .dataframe tbody tr th:only-of-type {\n",
       "        vertical-align: middle;\n",
       "    }\n",
       "\n",
       "    .dataframe tbody tr th {\n",
       "        vertical-align: top;\n",
       "    }\n",
       "\n",
       "    .dataframe thead th {\n",
       "        text-align: right;\n",
       "    }\n",
       "</style>\n",
       "<table border=\"1\" class=\"dataframe\">\n",
       "  <thead>\n",
       "    <tr style=\"text-align: right;\">\n",
       "      <th></th>\n",
       "      <th>year</th>\n",
       "      <th>month</th>\n",
       "      <th>sealevel</th>\n",
       "    </tr>\n",
       "  </thead>\n",
       "  <tbody>\n",
       "    <tr>\n",
       "      <th>0</th>\n",
       "      <td>1954</td>\n",
       "      <td>5</td>\n",
       "      <td>6.871</td>\n",
       "    </tr>\n",
       "    <tr>\n",
       "      <th>1</th>\n",
       "      <td>1954</td>\n",
       "      <td>6</td>\n",
       "      <td>6.809</td>\n",
       "    </tr>\n",
       "    <tr>\n",
       "      <th>2</th>\n",
       "      <td>1954</td>\n",
       "      <td>7</td>\n",
       "      <td>6.800</td>\n",
       "    </tr>\n",
       "    <tr>\n",
       "      <th>3</th>\n",
       "      <td>1954</td>\n",
       "      <td>8</td>\n",
       "      <td>6.776</td>\n",
       "    </tr>\n",
       "    <tr>\n",
       "      <th>4</th>\n",
       "      <td>1954</td>\n",
       "      <td>9</td>\n",
       "      <td>6.834</td>\n",
       "    </tr>\n",
       "    <tr>\n",
       "      <th>...</th>\n",
       "      <td>...</td>\n",
       "      <td>...</td>\n",
       "      <td>...</td>\n",
       "    </tr>\n",
       "    <tr>\n",
       "      <th>608</th>\n",
       "      <td>2006</td>\n",
       "      <td>8</td>\n",
       "      <td>7.182</td>\n",
       "    </tr>\n",
       "    <tr>\n",
       "      <th>609</th>\n",
       "      <td>2006</td>\n",
       "      <td>9</td>\n",
       "      <td>7.157</td>\n",
       "    </tr>\n",
       "    <tr>\n",
       "      <th>610</th>\n",
       "      <td>2006</td>\n",
       "      <td>10</td>\n",
       "      <td>7.071</td>\n",
       "    </tr>\n",
       "    <tr>\n",
       "      <th>611</th>\n",
       "      <td>2006</td>\n",
       "      <td>11</td>\n",
       "      <td>7.121</td>\n",
       "    </tr>\n",
       "    <tr>\n",
       "      <th>612</th>\n",
       "      <td>2006</td>\n",
       "      <td>12</td>\n",
       "      <td>6.994</td>\n",
       "    </tr>\n",
       "  </tbody>\n",
       "</table>\n",
       "<p>613 rows × 3 columns</p>\n",
       "</div>"
      ],
      "text/plain": [
       "     year  month  sealevel\n",
       "0    1954      5     6.871\n",
       "1    1954      6     6.809\n",
       "2    1954      7     6.800\n",
       "3    1954      8     6.776\n",
       "4    1954      9     6.834\n",
       "..    ...    ...       ...\n",
       "608  2006      8     7.182\n",
       "609  2006      9     7.157\n",
       "610  2006     10     7.071\n",
       "611  2006     11     7.121\n",
       "612  2006     12     6.994\n",
       "\n",
       "[613 rows x 3 columns]"
      ]
     },
     "execution_count": 553,
     "metadata": {},
     "output_type": "execute_result"
    }
   ],
   "source": [
    "df"
   ]
  },
  {
   "cell_type": "markdown",
   "id": "f56288b7-a512-4997-8e28-517ecbdbaa2d",
   "metadata": {},
   "source": [
    "### Passo 2: crie uma série de datas \n",
    "\n",
    "Os dados estão disponível como médias mensais de nível do mar para cada ano/mês. Para trabalhar mais facilmente com os dados, criar um `timestamp` que é melhor entendido pelo python em cálculos e plotagens. A função `datatime` requer a especificação do dia, além dê mês e ano. Como estamos trabalhando com médias mensais, escolhemos `day=15` como representativo do meio do mês."
   ]
  },
  {
   "cell_type": "code",
   "execution_count": 554,
   "id": "68031187-79b9-4ef9-95ca-ef7142e44362",
   "metadata": {},
   "outputs": [],
   "source": [
    "# cria array de datetime64 e o coloca no dataframe de nível do mar\n",
    "time =  [np.datetime64(datetime.datetime(year=df['year'][k],month=df['month'][k],day=15))\n",
    "    for k in range(len(df['year']))]\n",
    "\n",
    "time = np.array(time)\n",
    "\n",
    "# coloca a variável time em df\n",
    "df['time'] = pd.to_datetime(time)\n",
    "\n",
    "# indexa a série de tempo com a variável time\n",
    "df = df.set_index('time')"
   ]
  },
  {
   "cell_type": "code",
   "execution_count": 555,
   "id": "e901e014-8161-4b4e-a12b-cc3104ab748c",
   "metadata": {},
   "outputs": [
    {
     "data": {
      "text/html": [
       "<div>\n",
       "<style scoped>\n",
       "    .dataframe tbody tr th:only-of-type {\n",
       "        vertical-align: middle;\n",
       "    }\n",
       "\n",
       "    .dataframe tbody tr th {\n",
       "        vertical-align: top;\n",
       "    }\n",
       "\n",
       "    .dataframe thead th {\n",
       "        text-align: right;\n",
       "    }\n",
       "</style>\n",
       "<table border=\"1\" class=\"dataframe\">\n",
       "  <thead>\n",
       "    <tr style=\"text-align: right;\">\n",
       "      <th></th>\n",
       "      <th>year</th>\n",
       "      <th>month</th>\n",
       "      <th>sealevel</th>\n",
       "    </tr>\n",
       "    <tr>\n",
       "      <th>time</th>\n",
       "      <th></th>\n",
       "      <th></th>\n",
       "      <th></th>\n",
       "    </tr>\n",
       "  </thead>\n",
       "  <tbody>\n",
       "    <tr>\n",
       "      <th>1954-05-15</th>\n",
       "      <td>1954</td>\n",
       "      <td>5</td>\n",
       "      <td>6.871</td>\n",
       "    </tr>\n",
       "    <tr>\n",
       "      <th>1954-06-15</th>\n",
       "      <td>1954</td>\n",
       "      <td>6</td>\n",
       "      <td>6.809</td>\n",
       "    </tr>\n",
       "    <tr>\n",
       "      <th>1954-07-15</th>\n",
       "      <td>1954</td>\n",
       "      <td>7</td>\n",
       "      <td>6.800</td>\n",
       "    </tr>\n",
       "    <tr>\n",
       "      <th>1954-08-15</th>\n",
       "      <td>1954</td>\n",
       "      <td>8</td>\n",
       "      <td>6.776</td>\n",
       "    </tr>\n",
       "    <tr>\n",
       "      <th>1954-09-15</th>\n",
       "      <td>1954</td>\n",
       "      <td>9</td>\n",
       "      <td>6.834</td>\n",
       "    </tr>\n",
       "    <tr>\n",
       "      <th>...</th>\n",
       "      <td>...</td>\n",
       "      <td>...</td>\n",
       "      <td>...</td>\n",
       "    </tr>\n",
       "    <tr>\n",
       "      <th>2006-08-15</th>\n",
       "      <td>2006</td>\n",
       "      <td>8</td>\n",
       "      <td>7.182</td>\n",
       "    </tr>\n",
       "    <tr>\n",
       "      <th>2006-09-15</th>\n",
       "      <td>2006</td>\n",
       "      <td>9</td>\n",
       "      <td>7.157</td>\n",
       "    </tr>\n",
       "    <tr>\n",
       "      <th>2006-10-15</th>\n",
       "      <td>2006</td>\n",
       "      <td>10</td>\n",
       "      <td>7.071</td>\n",
       "    </tr>\n",
       "    <tr>\n",
       "      <th>2006-11-15</th>\n",
       "      <td>2006</td>\n",
       "      <td>11</td>\n",
       "      <td>7.121</td>\n",
       "    </tr>\n",
       "    <tr>\n",
       "      <th>2006-12-15</th>\n",
       "      <td>2006</td>\n",
       "      <td>12</td>\n",
       "      <td>6.994</td>\n",
       "    </tr>\n",
       "  </tbody>\n",
       "</table>\n",
       "<p>613 rows × 3 columns</p>\n",
       "</div>"
      ],
      "text/plain": [
       "            year  month  sealevel\n",
       "time                             \n",
       "1954-05-15  1954      5     6.871\n",
       "1954-06-15  1954      6     6.809\n",
       "1954-07-15  1954      7     6.800\n",
       "1954-08-15  1954      8     6.776\n",
       "1954-09-15  1954      9     6.834\n",
       "...          ...    ...       ...\n",
       "2006-08-15  2006      8     7.182\n",
       "2006-09-15  2006      9     7.157\n",
       "2006-10-15  2006     10     7.071\n",
       "2006-11-15  2006     11     7.121\n",
       "2006-12-15  2006     12     6.994\n",
       "\n",
       "[613 rows x 3 columns]"
      ]
     },
     "execution_count": 555,
     "metadata": {},
     "output_type": "execute_result"
    }
   ],
   "source": [
    "df"
   ]
  },
  {
   "cell_type": "markdown",
   "id": "1be7b8eb-6af1-42f3-9cc7-f12e0d0b0c45",
   "metadata": {},
   "source": [
    "### Passo 3: Visualize os dados\n",
    "\n",
    "Plote a série temporal de nível médio do mar. Lembre-se de colocar labels no gráfico. Escreva algumas anotações sobre seu gráfico. Qual comportamento do nível do mar ao longo das décadas? Qual amplitude da variabilidade? Estimate visualmente a taxa de aumento do nível do mar nos últimos 50 anos."
   ]
  },
  {
   "cell_type": "markdown",
   "id": "cd18650d-273c-4737-82ef-f1a5cf17d1dc",
   "metadata": {},
   "source": [
    "### Passo 4:  Estime a tendência linear do nível do mar\n",
    "\n",
    "Utilizando a função `np.polyfit`, ajuste uma reta $y = a + b t$ (polinômio de grau 1) à série temporal de nível do mar. A inclinação da reta $b$ é a tedência linear, que deve ser apresentada em mm/ano. **Compare** os resultados com a estimativa visual que você fez no Passo 3. **Visualize** a reta ajustada, plotando-a junto com a série temporal do nível do mar. \n",
    "\n",
    "Você deve obter algo assim:\n",
    "\n",
    "<br>\n",
    "<img src=https://raw.githubusercontent.com/PhysMAR/computational_bootcamp/main/python/img/niveldomar_mediamensal_cananeia.png>\n",
    "</br>"
   ]
  },
  {
   "cell_type": "code",
   "execution_count": 556,
   "id": "d3941cf2-43ac-4caa-bc24-066818156918",
   "metadata": {},
   "outputs": [],
   "source": [
    "# DICA: para utilizar  a função polyfit, você precisará de um variável `tempo decorrido` (elapsed time)\n",
    "#  desde o início da série temporal. Aqui, aproveitamos a variável `time`. A diferença entre time e\n",
    "# time[0] é o tempo decorrido em micro-segundos. Precisamos converte este tempo decorrido para fração de ano:\n",
    "time_years = (time-time[0]).astype('float')/1.e6/86400/365"
   ]
  },
  {
   "cell_type": "markdown",
   "id": "9a062e29-489c-4b85-989f-6dc078c4d780",
   "metadata": {},
   "source": [
    "### Passo 5: Cálcule a média anual do nível médio do mar e repita o cálculo de tendência\n",
    "\n",
    "Utilizando a função `groupby` do pandas, calcule a média anual do nível do mar.  **Repita** o cálculo de tendência, compare o resultado com a estimativa baseada em médias mensais. **Visualize** os resultados. \n",
    "\n",
    "Você deve obter algo assim:\n",
    "\n",
    "\n",
    "<br>\n",
    "<img src=https://raw.githubusercontent.com/PhysMAR/computational_bootcamp/main/python/img/niveldomar_mediamensal_mediaanual_cananeia.png>\n",
    "</br>\n"
   ]
  },
  {
   "cell_type": "markdown",
   "id": "d917ff6f-fda7-448a-aa46-2ec4e41266b4",
   "metadata": {},
   "source": [
    "### Passo 6: Remova a tendência do nível médio do mar e estude a variabilidade inter-annual\n",
    "\n",
    "Utilizando dos dados promediados anualmente, remova a tendência linear e obtenha uma séria temporal de anomalia do nível do mar. **Calcule** as estatísticas básicas da anomalia do nível do mar utilizando a função `describe` do pandas.  **Visualize** o resultado, indicando em que períodos em que a anomalia do nível do mar foi positiva  e negativa.\n",
    "\n",
    "\n",
    "Você deve obter algo assim:\n",
    "\n",
    "<br>\n",
    "<img src=https://raw.githubusercontent.com/PhysMAR/computational_bootcamp/main/python/img/anomalia_niveldomar_cananeia.png>\n",
    "</br>"
   ]
  },
  {
   "cell_type": "markdown",
   "id": "06a5a642-ed7e-4d5c-943c-aadc4a9e5802",
   "metadata": {},
   "source": [
    "### Passo 7: Calcule a correlação entre nível médio do mar anual e o nível de CO2 atmosférico\n",
    "Carregue os dados da curva de Keeling (lembre-se do Tutorial 3) e utilize a função `np.corrcoef` para calcular a correlação entre o nível do mar médio anual (com tendência linear) e a concentração de CO2 atmosférico.  Discuta os resultados e especule sobre as causas do aumento do nível do mar em Cananéia."
   ]
  },
  {
   "cell_type": "code",
   "execution_count": null,
   "id": "adfcd59a-3849-4c85-89ed-fe67b7cbe6ec",
   "metadata": {},
   "outputs": [],
   "source": []
  },
  {
   "cell_type": "code",
   "execution_count": null,
   "id": "908e8f43-d553-4b11-9118-c97e4bbf0247",
   "metadata": {},
   "outputs": [],
   "source": []
  }
 ],
 "metadata": {
  "kernelspec": {
   "display_name": "Python 3 (ipykernel)",
   "language": "python",
   "name": "python3"
  },
  "language_info": {
   "codemirror_mode": {
    "name": "ipython",
    "version": 3
   },
   "file_extension": ".py",
   "mimetype": "text/x-python",
   "name": "python",
   "nbconvert_exporter": "python",
   "pygments_lexer": "ipython3",
   "version": "3.10.6"
  }
 },
 "nbformat": 4,
 "nbformat_minor": 5
}
