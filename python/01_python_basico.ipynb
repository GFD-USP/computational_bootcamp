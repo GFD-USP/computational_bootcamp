{
 "cells": [
  {
   "cell_type": "code",
   "execution_count": 137,
   "id": "0deb5789",
   "metadata": {},
   "outputs": [
    {
     "name": "stdout",
     "output_type": "stream",
     "text": [
      "\n",
      "Hello world!\n",
      "\n"
     ]
    }
   ],
   "source": [
    "# Este é um comentário em python numa célula\n",
    "# do jupyter notebook tipo \"Code\".\n",
    "# A função print escreve, por default, na tela\n",
    "print(\"\\nHello world!\\n\")"
   ]
  },
  {
   "cell_type": "code",
   "execution_count": 138,
   "id": "ac2c40a2-29aa-4d56-bf4e-83907a89d2b9",
   "metadata": {},
   "outputs": [],
   "source": [
    "# Podemos também executar programas salvos\n",
    "# em arquivos .py"
   ]
  },
  {
   "cell_type": "code",
   "execution_count": 139,
   "id": "74d2f4ca",
   "metadata": {},
   "outputs": [
    {
     "name": "stdout",
     "output_type": "stream",
     "text": [
      "\n",
      "Hello world!\n",
      "\n"
     ]
    }
   ],
   "source": [
    "run primeiro_programa.py"
   ]
  },
  {
   "cell_type": "raw",
   "id": "9cb3a7db",
   "metadata": {},
   "source": [
    "Este é um comentário numa célula tipo \"Raw\"."
   ]
  },
  {
   "cell_type": "markdown",
   "id": "ae8f638b",
   "metadata": {
    "tags": []
   },
   "source": [
    "# Este é um cabeçalho em uma célula tipo \"Markdown\" \n",
    "## This is a sub-header in markdown cell\n",
    "\n",
    "Markdown nos permite escreve textos formatados e inclusão de mídia.\n",
    "\n",
    "We are learning about jupyter notebook and python basics in [lecture 4](https://github.com/cesar-rocha/MARN-5895/tree/main/lectures/04_pythonbasics).\n",
    "\n",
    "Código HTML também funciona em uma célula tipo \"Markdown\". Por examplo: \n",
    "\n",
    "<h1>Este é um cabeçalho em HTML</h1>\n",
    "<h2>Este é um sub-cabeçalho em HTML</h2>"
   ]
  },
  {
   "cell_type": "markdown",
   "id": "dde436e2",
   "metadata": {},
   "source": [
    "# Python básico\n",
    "\n",
    "### Variáveis básica: números e \"strings\""
   ]
  },
  {
   "cell_type": "markdown",
   "id": "aba6bb3b-68d2-438a-904e-c43acfbbb601",
   "metadata": {},
   "source": [
    "### Inteiros (int) e reais (float) "
   ]
  },
  {
   "cell_type": "code",
   "execution_count": 140,
   "id": "ceb96511",
   "metadata": {},
   "outputs": [
    {
     "data": {
      "text/plain": [
       "1"
      ]
     },
     "execution_count": 140,
     "metadata": {},
     "output_type": "execute_result"
    }
   ],
   "source": [
    "a = 1\n",
    "a"
   ]
  },
  {
   "cell_type": "code",
   "execution_count": 141,
   "id": "e3731607",
   "metadata": {},
   "outputs": [
    {
     "data": {
      "text/plain": [
       "int"
      ]
     },
     "execution_count": 141,
     "metadata": {},
     "output_type": "execute_result"
    }
   ],
   "source": [
    "type(a)"
   ]
  },
  {
   "cell_type": "code",
   "execution_count": 142,
   "id": "83ed7c09",
   "metadata": {},
   "outputs": [
    {
     "data": {
      "text/plain": [
       "1.0"
      ]
     },
     "execution_count": 142,
     "metadata": {},
     "output_type": "execute_result"
    }
   ],
   "source": [
    "b = 1.\n",
    "b"
   ]
  },
  {
   "cell_type": "code",
   "execution_count": 143,
   "id": "d19a15c0",
   "metadata": {},
   "outputs": [
    {
     "data": {
      "text/plain": [
       "float"
      ]
     },
     "execution_count": 143,
     "metadata": {},
     "output_type": "execute_result"
    }
   ],
   "source": [
    "type(b)"
   ]
  },
  {
   "cell_type": "code",
   "execution_count": 144,
   "id": "51b435b4",
   "metadata": {},
   "outputs": [
    {
     "data": {
      "text/plain": [
       "int"
      ]
     },
     "execution_count": 144,
     "metadata": {},
     "output_type": "execute_result"
    }
   ],
   "source": [
    "c = 2\n",
    "type(c)"
   ]
  },
  {
   "cell_type": "code",
   "execution_count": 145,
   "id": "dfa28997",
   "metadata": {},
   "outputs": [
    {
     "data": {
      "text/plain": [
       "float"
      ]
     },
     "execution_count": 145,
     "metadata": {},
     "output_type": "execute_result"
    }
   ],
   "source": [
    "type(a + b)"
   ]
  },
  {
   "cell_type": "code",
   "execution_count": 146,
   "id": "5073c062",
   "metadata": {},
   "outputs": [
    {
     "data": {
      "text/plain": [
       "0.5"
      ]
     },
     "execution_count": 146,
     "metadata": {},
     "output_type": "execute_result"
    }
   ],
   "source": [
    "a/2 # automaticamente converte em \"float\" (número real)"
   ]
  },
  {
   "cell_type": "code",
   "execution_count": 147,
   "id": "74b2fcca",
   "metadata": {},
   "outputs": [
    {
     "data": {
      "text/plain": [
       "1.0"
      ]
     },
     "execution_count": 147,
     "metadata": {},
     "output_type": "execute_result"
    }
   ],
   "source": [
    "# se quisermos apenas a parte inteira da divisão, utilizamos a barra dupla\n",
    "2.5//2"
   ]
  },
  {
   "cell_type": "code",
   "execution_count": 148,
   "id": "8cdf9857-31f8-404c-9beb-0073e3ca9ec6",
   "metadata": {},
   "outputs": [
    {
     "data": {
      "text/plain": [
       "0.5"
      ]
     },
     "execution_count": 148,
     "metadata": {},
     "output_type": "execute_result"
    }
   ],
   "source": [
    "# se quisermos o resto, utilizamos o operador porcetagem \n",
    "2.5%2"
   ]
  },
  {
   "cell_type": "markdown",
   "id": "8b89e46a-6850-497b-9b4d-bd676e3cf3a5",
   "metadata": {},
   "source": [
    "### Strings (str)"
   ]
  },
  {
   "cell_type": "code",
   "execution_count": 149,
   "id": "22597d77",
   "metadata": {},
   "outputs": [
    {
     "data": {
      "text/plain": [
       "str"
      ]
     },
     "execution_count": 149,
     "metadata": {},
     "output_type": "execute_result"
    }
   ],
   "source": [
    "nome = 'Cesar'\n",
    "type(nome)"
   ]
  },
  {
   "cell_type": "code",
   "execution_count": 150,
   "id": "f93530ef",
   "metadata": {},
   "outputs": [],
   "source": [
    "sobrenome = 'Rocha'"
   ]
  },
  {
   "cell_type": "code",
   "execution_count": 151,
   "id": "eccc58ac",
   "metadata": {},
   "outputs": [
    {
     "data": {
      "text/plain": [
       "'Cesar Rocha'"
      ]
     },
     "execution_count": 151,
     "metadata": {},
     "output_type": "execute_result"
    }
   ],
   "source": [
    "nome + ' ' + sobrenome"
   ]
  },
  {
   "cell_type": "code",
   "execution_count": 152,
   "id": "31a76da5",
   "metadata": {},
   "outputs": [
    {
     "data": {
      "text/plain": [
       "'Cesar B. Rocha'"
      ]
     },
     "execution_count": 152,
     "metadata": {},
     "output_type": "execute_result"
    }
   ],
   "source": [
    "nome_completo = 'Cesar B. Rocha' \n",
    "nome_completo"
   ]
  },
  {
   "cell_type": "code",
   "execution_count": 153,
   "id": "d2447657",
   "metadata": {},
   "outputs": [
    {
     "data": {
      "text/plain": [
       "'Cesar B. Rocha'"
      ]
     },
     "execution_count": 153,
     "metadata": {},
     "output_type": "execute_result"
    }
   ],
   "source": [
    "nome_completo2 = \"Cesar B. Rocha\" # aspas duplas também funcionam\n",
    "nome_completo2"
   ]
  },
  {
   "cell_type": "code",
   "execution_count": 154,
   "id": "609dd826",
   "metadata": {},
   "outputs": [
    {
     "name": "stdout",
     "output_type": "stream",
     "text": [
      "Cesar B. Rocha\n"
     ]
    }
   ],
   "source": [
    "print(nome_completo2)"
   ]
  },
  {
   "cell_type": "markdown",
   "id": "b8962f29",
   "metadata": {},
   "source": [
    "### Variáveis booleana  (boolean variables)\n",
    "Utilizamos variáveis booleana para testes lógicos. Em python, as variáveis booleanas são `True` and `False`."
   ]
  },
  {
   "cell_type": "code",
   "execution_count": 155,
   "id": "16696f6c",
   "metadata": {},
   "outputs": [
    {
     "data": {
      "text/plain": [
       "True"
      ]
     },
     "execution_count": 155,
     "metadata": {},
     "output_type": "execute_result"
    }
   ],
   "source": [
    "a = True # atribui True a variável \"a\"\n",
    "a"
   ]
  },
  {
   "cell_type": "code",
   "execution_count": 156,
   "id": "96300935",
   "metadata": {},
   "outputs": [
    {
     "data": {
      "text/plain": [
       "False"
      ]
     },
     "execution_count": 156,
     "metadata": {},
     "output_type": "execute_result"
    }
   ],
   "source": [
    "b = False # atribui False a variável \"b\"\n",
    "b"
   ]
  },
  {
   "cell_type": "code",
   "execution_count": 157,
   "id": "aac4af8e",
   "metadata": {},
   "outputs": [
    {
     "data": {
      "text/plain": [
       "False"
      ]
     },
     "execution_count": 157,
     "metadata": {},
     "output_type": "execute_result"
    }
   ],
   "source": [
    "a == b # testa se a é igual a b"
   ]
  },
  {
   "cell_type": "code",
   "execution_count": 158,
   "id": "c2feb8d1",
   "metadata": {},
   "outputs": [
    {
     "data": {
      "text/plain": [
       "True"
      ]
     },
     "execution_count": 158,
     "metadata": {},
     "output_type": "execute_result"
    }
   ],
   "source": [
    "a == True # testa se a é True"
   ]
  },
  {
   "cell_type": "code",
   "execution_count": 159,
   "id": "cc703a4f",
   "metadata": {},
   "outputs": [
    {
     "data": {
      "text/plain": [
       "True"
      ]
     },
     "execution_count": 159,
     "metadata": {},
     "output_type": "execute_result"
    }
   ],
   "source": [
    "a != b # testa se a é diferente de b"
   ]
  },
  {
   "cell_type": "code",
   "execution_count": 160,
   "id": "890c0e43",
   "metadata": {},
   "outputs": [
    {
     "data": {
      "text/plain": [
       "True"
      ]
     },
     "execution_count": 160,
     "metadata": {},
     "output_type": "execute_result"
    }
   ],
   "source": [
    "a == (not(b)) # testa se a é igual ao oporto de b."
   ]
  },
  {
   "cell_type": "markdown",
   "id": "7fb48ba9",
   "metadata": {},
   "source": [
    "### Listas, tuples e dicionários"
   ]
  },
  {
   "cell_type": "code",
   "execution_count": 161,
   "id": "77bafe91",
   "metadata": {},
   "outputs": [
    {
     "data": {
      "text/plain": [
       "[1, 2, 3]"
      ]
     },
     "execution_count": 161,
     "metadata": {},
     "output_type": "execute_result"
    }
   ],
   "source": [
    "lista_de_numeros = [1,2,3]\n",
    "lista_de_numeros"
   ]
  },
  {
   "cell_type": "code",
   "execution_count": 162,
   "id": "f97ff46a",
   "metadata": {},
   "outputs": [
    {
     "data": {
      "text/plain": [
       "list"
      ]
     },
     "execution_count": 162,
     "metadata": {},
     "output_type": "execute_result"
    }
   ],
   "source": [
    "type(lista_de_numeros)"
   ]
  },
  {
   "cell_type": "code",
   "execution_count": 163,
   "id": "696cd943",
   "metadata": {},
   "outputs": [],
   "source": [
    "lista_de_numeros.append(4) # acrescenta um número à lista"
   ]
  },
  {
   "cell_type": "code",
   "execution_count": 164,
   "id": "a3febeb2",
   "metadata": {},
   "outputs": [
    {
     "data": {
      "text/plain": [
       "[1, 2, 3, 4]"
      ]
     },
     "execution_count": 164,
     "metadata": {},
     "output_type": "execute_result"
    }
   ],
   "source": [
    "lista_de_numeros"
   ]
  },
  {
   "cell_type": "code",
   "execution_count": 165,
   "id": "ea64fbb0",
   "metadata": {},
   "outputs": [
    {
     "data": {
      "text/plain": [
       "[1, 2, 'a', 'b']"
      ]
     },
     "execution_count": 165,
     "metadata": {},
     "output_type": "execute_result"
    }
   ],
   "source": [
    "# Uma lista pode conter números, strings e outras listas:\n",
    "lista_de_numero_e_strings = [1,2,'a','b']\n",
    "lista_de_numero_e_strings"
   ]
  },
  {
   "cell_type": "markdown",
   "id": "8ea4fbc0",
   "metadata": {},
   "source": [
    "#### Indexação"
   ]
  },
  {
   "cell_type": "code",
   "execution_count": 166,
   "id": "cc719be9",
   "metadata": {},
   "outputs": [
    {
     "data": {
      "text/plain": [
       "1"
      ]
     },
     "execution_count": 166,
     "metadata": {},
     "output_type": "execute_result"
    }
   ],
   "source": [
    "lista_de_numero_e_strings[0] # a indexação em python começa em zero, isto é, o elemento zero da lista é o primeiro elemento da lista"
   ]
  },
  {
   "cell_type": "code",
   "execution_count": 167,
   "id": "32b7ce6f",
   "metadata": {},
   "outputs": [
    {
     "data": {
      "text/plain": [
       "'b'"
      ]
     },
     "execution_count": 167,
     "metadata": {},
     "output_type": "execute_result"
    }
   ],
   "source": [
    "lista_de_numero_e_strings[3] # para o último elemento, você pode usar a posição (3 neste caso) ou -1 "
   ]
  },
  {
   "cell_type": "code",
   "execution_count": 168,
   "id": "0ffeffcb",
   "metadata": {},
   "outputs": [
    {
     "data": {
      "text/plain": [
       "'b'"
      ]
     },
     "execution_count": 168,
     "metadata": {},
     "output_type": "execute_result"
    }
   ],
   "source": [
    "lista_de_numero_e_strings[-1]"
   ]
  },
  {
   "cell_type": "code",
   "execution_count": 169,
   "id": "50af2cf0",
   "metadata": {},
   "outputs": [
    {
     "data": {
      "text/plain": [
       "'a'"
      ]
     },
     "execution_count": 169,
     "metadata": {},
     "output_type": "execute_result"
    }
   ],
   "source": [
    "# E o índice  -2? \n",
    "lista_de_numero_e_strings[-2]"
   ]
  },
  {
   "cell_type": "code",
   "execution_count": 170,
   "id": "da607bc4",
   "metadata": {},
   "outputs": [
    {
     "data": {
      "text/plain": [
       "True"
      ]
     },
     "execution_count": 170,
     "metadata": {},
     "output_type": "execute_result"
    }
   ],
   "source": [
    "lista_de_numero_e_strings[-2] == lista_de_numero_e_strings[2]"
   ]
  },
  {
   "cell_type": "code",
   "execution_count": 171,
   "id": "372ddfb0",
   "metadata": {},
   "outputs": [
    {
     "data": {
      "text/plain": [
       "[1, 2, 3]"
      ]
     },
     "execution_count": 171,
     "metadata": {},
     "output_type": "execute_result"
    }
   ],
   "source": [
    "# Sempre podemos modificar uma lista\n",
    "lista_de_numeros = [1,2,3]\n",
    "lista_de_numeros"
   ]
  },
  {
   "cell_type": "code",
   "execution_count": 172,
   "id": "3b186f54",
   "metadata": {},
   "outputs": [
    {
     "data": {
      "text/plain": [
       "3"
      ]
     },
     "execution_count": 172,
     "metadata": {},
     "output_type": "execute_result"
    }
   ],
   "source": [
    "len(lista_de_numeros) # o tamanho da lista"
   ]
  },
  {
   "cell_type": "code",
   "execution_count": 173,
   "id": "a29314ad",
   "metadata": {},
   "outputs": [],
   "source": [
    "# Uma lista é um tipo de dado (data type) mutável, o que significava que podemos alterar seus elementos. Por exemplo:\n",
    "lista_de_numeros[0] = -1"
   ]
  },
  {
   "cell_type": "code",
   "execution_count": 174,
   "id": "ecd3dd6d",
   "metadata": {},
   "outputs": [
    {
     "data": {
      "text/plain": [
       "[-1, 2, 3]"
      ]
     },
     "execution_count": 174,
     "metadata": {},
     "output_type": "execute_result"
    }
   ],
   "source": [
    "lista_de_numeros"
   ]
  },
  {
   "cell_type": "code",
   "execution_count": 179,
   "id": "6e6d0342",
   "metadata": {},
   "outputs": [
    {
     "data": {
      "text/plain": [
       "(1, 2, 3)"
      ]
     },
     "execution_count": 179,
     "metadata": {},
     "output_type": "execute_result"
    }
   ],
   "source": [
    "# Um \"tuple\", por outro lado, é um tipo de dados imutável.\n",
    "tuple_de_numeros = (1,2,3)\n",
    "tuple_de_numeros"
   ]
  },
  {
   "cell_type": "code",
   "execution_count": 180,
   "id": "fda1cee9",
   "metadata": {},
   "outputs": [
    {
     "data": {
      "text/plain": [
       "tuple"
      ]
     },
     "execution_count": 180,
     "metadata": {},
     "output_type": "execute_result"
    }
   ],
   "source": [
    "type(tuple_de_numeros)"
   ]
  },
  {
   "cell_type": "code",
   "execution_count": 182,
   "id": "3e61f4c7",
   "metadata": {},
   "outputs": [
    {
     "ename": "TypeError",
     "evalue": "'tuple' object does not support item assignment",
     "output_type": "error",
     "traceback": [
      "\u001b[0;31m---------------------------------------------------------------------------\u001b[0m",
      "\u001b[0;31mTypeError\u001b[0m                                 Traceback (most recent call last)",
      "Cell \u001b[0;32mIn[182], line 1\u001b[0m\n\u001b[0;32m----> 1\u001b[0m \u001b[43mtuple_de_numeros\u001b[49m\u001b[43m[\u001b[49m\u001b[38;5;241;43m0\u001b[39;49m\u001b[43m]\u001b[49m \u001b[38;5;241m=\u001b[39m \u001b[38;5;241m0\u001b[39m \n",
      "\u001b[0;31mTypeError\u001b[0m: 'tuple' object does not support item assignment"
     ]
    }
   ],
   "source": [
    "tuple_de_numeros[0] = 0 "
   ]
  },
  {
   "cell_type": "code",
   "execution_count": 185,
   "id": "a2ee79fe",
   "metadata": {},
   "outputs": [],
   "source": [
    "# Outro tipo de dados básico em python é o chamado dicionário (dictionary), cuja sintaxe básica é:\n",
    "dicionario = {\"chave\": \"valor\"}"
   ]
  },
  {
   "cell_type": "code",
   "execution_count": 186,
   "id": "b5fd7423",
   "metadata": {},
   "outputs": [
    {
     "data": {
      "text/plain": [
       "dict"
      ]
     },
     "execution_count": 186,
     "metadata": {},
     "output_type": "execute_result"
    }
   ],
   "source": [
    "type(dicionario)"
   ]
  },
  {
   "cell_type": "code",
   "execution_count": 189,
   "id": "fec271e1",
   "metadata": {},
   "outputs": [],
   "source": [
    "# Alternativamento, podemos utilizar\n",
    "dicionario = dict(chave=\"valor\")"
   ]
  },
  {
   "cell_type": "code",
   "execution_count": 190,
   "id": "d2d2ac6a",
   "metadata": {},
   "outputs": [
    {
     "data": {
      "text/plain": [
       "'valor'"
      ]
     },
     "execution_count": 190,
     "metadata": {},
     "output_type": "execute_result"
    }
   ],
   "source": [
    "dicionario['chave']"
   ]
  },
  {
   "cell_type": "code",
   "execution_count": 192,
   "id": "e4fae4b7",
   "metadata": {},
   "outputs": [],
   "source": [
    "# chaves de dicionários são sempre strings; valores, por outro lado, pode ser números, strings, listas, tuples...\n",
    "dicionario=dict(chave_a = \"a\", chave_1 = 1.0, chave_lista = [1,2,3])"
   ]
  },
  {
   "cell_type": "code",
   "execution_count": 193,
   "id": "370048d0",
   "metadata": {},
   "outputs": [
    {
     "data": {
      "text/plain": [
       "dict_keys(['chave_a', 'chave_1', 'chave_lista'])"
      ]
     },
     "execution_count": 193,
     "metadata": {},
     "output_type": "execute_result"
    }
   ],
   "source": [
    "dicionario.keys()"
   ]
  },
  {
   "cell_type": "code",
   "execution_count": 194,
   "id": "db1a0d6f",
   "metadata": {},
   "outputs": [
    {
     "data": {
      "text/plain": [
       "'a'"
      ]
     },
     "execution_count": 194,
     "metadata": {},
     "output_type": "execute_result"
    }
   ],
   "source": [
    "dicionario['chave_a']"
   ]
  },
  {
   "cell_type": "code",
   "execution_count": 196,
   "id": "a46a1dea",
   "metadata": {},
   "outputs": [],
   "source": [
    "# dicionarios são muito úteis para dados com variáveis múltiplas. \n",
    "dados=dict(profundidade=[0,-1,-2,-5,-10],temperatura=[20,19,15,10,9.5],salinidade=[25,30,31,34,35])"
   ]
  },
  {
   "cell_type": "code",
   "execution_count": 197,
   "id": "e1f1c76e",
   "metadata": {},
   "outputs": [
    {
     "data": {
      "text/plain": [
       "dict_keys(['profundidade', 'temperatura', 'salinidade'])"
      ]
     },
     "execution_count": 197,
     "metadata": {},
     "output_type": "execute_result"
    }
   ],
   "source": [
    "dados.keys()"
   ]
  },
  {
   "cell_type": "code",
   "execution_count": 198,
   "id": "5f897901-bc69-40df-90d5-d83398accc70",
   "metadata": {},
   "outputs": [
    {
     "data": {
      "text/plain": [
       "dict_values([[0, -1, -2, -5, -10], [20, 19, 15, 10, 9.5], [25, 30, 31, 34, 35]])"
      ]
     },
     "execution_count": 198,
     "metadata": {},
     "output_type": "execute_result"
    }
   ],
   "source": [
    "dados.values()"
   ]
  },
  {
   "cell_type": "code",
   "execution_count": 199,
   "id": "99ad2f26",
   "metadata": {},
   "outputs": [],
   "source": [
    "# Plotagem simples\n",
    "import matplotlib.pyplot as plt # importando a biblioteca de plotagem"
   ]
  },
  {
   "cell_type": "code",
   "execution_count": 203,
   "id": "012f9926",
   "metadata": {},
   "outputs": [
    {
     "data": {
      "text/plain": [
       "Text(0, 0.5, 'Profundidade [m]')"
      ]
     },
     "execution_count": 203,
     "metadata": {},
     "output_type": "execute_result"
    },
    {
     "data": {
      "image/png": "[encoded data removed]",
      "text/plain": [
       "<Figure size 640x480 with 1 Axes>"
      ]
     },
     "metadata": {},
     "output_type": "display_data"
    }
   ],
   "source": [
    "plt.plot(dados['temperatura'],dados['profundidade'],'o-')\n",
    "plt.xlabel(r'Temperatura [$^\\circ$C]')\n",
    "plt.ylabel('Profundidade [m]')"
   ]
  },
  {
   "cell_type": "code",
   "execution_count": 220,
   "id": "0c8fb867",
   "metadata": {},
   "outputs": [
    {
     "data": {
      "text/plain": [
       "Text(0, 0.5, 'Profundidade [m]')"
      ]
     },
     "execution_count": 220,
     "metadata": {},
     "output_type": "execute_result"
    },
    {
     "data": {
      "image/png": "[encoded data removed]",
      "text/plain": [
       "<Figure size 640x480 with 1 Axes>"
      ]
     },
     "metadata": {},
     "output_type": "display_data"
    }
   ],
   "source": [
    "plt.plot(dados['salinidade'],dados['profundidade'],'ro-')\n",
    "plt.xlabel(r'Salinidade')\n",
    "plt.ylabel('Profundidade [m]')"
   ]
  },
  {
   "cell_type": "markdown",
   "id": "84ea5a7d",
   "metadata": {},
   "source": [
    "### Arrays\n",
    "Arrays são similares as listas, mas permitem operações ponto-a-ponto"
   ]
  },
  {
   "cell_type": "code",
   "execution_count": 221,
   "id": "8fad1b2f",
   "metadata": {},
   "outputs": [],
   "source": [
    "# Utilizamos o módulo Numpy para trabalhar com arrays em python\n",
    "import numpy as np  # este comando importa o numpy e, por simplicidade, atribui o alias \"np\"."
   ]
  },
  {
   "cell_type": "code",
   "execution_count": 222,
   "id": "248fc628",
   "metadata": {},
   "outputs": [],
   "source": [
    "lista_de_numeros = [1,2,3,4]\n",
    "array_de_numeros = np.array([1,2,3,4])"
   ]
  },
  {
   "cell_type": "code",
   "execution_count": 223,
   "id": "b605e636",
   "metadata": {},
   "outputs": [
    {
     "data": {
      "text/plain": [
       "numpy.ndarray"
      ]
     },
     "execution_count": 223,
     "metadata": {},
     "output_type": "execute_result"
    }
   ],
   "source": [
    "type(array_de_numeros)"
   ]
  },
  {
   "cell_type": "code",
   "execution_count": 224,
   "id": "ea7a8b5b",
   "metadata": {},
   "outputs": [
    {
     "data": {
      "text/plain": [
       "[1, 2, 3, 4, 1, 2, 3, 4]"
      ]
     },
     "execution_count": 224,
     "metadata": {},
     "output_type": "execute_result"
    }
   ],
   "source": [
    "lista_de_numeros*2 "
   ]
  },
  {
   "cell_type": "code",
   "execution_count": 225,
   "id": "f1ff1f78",
   "metadata": {},
   "outputs": [
    {
     "data": {
      "text/plain": [
       "array([2, 4, 6, 8])"
      ]
     },
     "execution_count": 225,
     "metadata": {},
     "output_type": "execute_result"
    }
   ],
   "source": [
    "array_de_numeros*2"
   ]
  },
  {
   "cell_type": "code",
   "execution_count": 226,
   "id": "8167052e",
   "metadata": {},
   "outputs": [
    {
     "data": {
      "text/plain": [
       "array([2, 3, 4, 5])"
      ]
     },
     "execution_count": 226,
     "metadata": {},
     "output_type": "execute_result"
    }
   ],
   "source": [
    "array_de_numeros + 1"
   ]
  },
  {
   "cell_type": "code",
   "execution_count": 227,
   "id": "defdd405",
   "metadata": {},
   "outputs": [],
   "source": [
    "array_de_numeros2 = [4,3,2,1]"
   ]
  },
  {
   "cell_type": "code",
   "execution_count": 228,
   "id": "e1b84492",
   "metadata": {},
   "outputs": [
    {
     "data": {
      "text/plain": [
       "array([5, 5, 5, 5])"
      ]
     },
     "execution_count": 228,
     "metadata": {},
     "output_type": "execute_result"
    }
   ],
   "source": [
    "array_de_numeros + array_de_numeros2"
   ]
  },
  {
   "cell_type": "code",
   "execution_count": 229,
   "id": "368bb296",
   "metadata": {},
   "outputs": [
    {
     "data": {
      "text/plain": [
       "array([4, 6, 6, 4])"
      ]
     },
     "execution_count": 229,
     "metadata": {},
     "output_type": "execute_result"
    }
   ],
   "source": [
    "array_de_numeros*array_de_numeros2 # multiplica elemento por elemento"
   ]
  },
  {
   "cell_type": "code",
   "execution_count": 230,
   "id": "abaa00a3",
   "metadata": {},
   "outputs": [],
   "source": [
    "# cria uma array de 0 a 2 pi, com incrementos de 0.1\n",
    "x = np.arange(0,2*np.pi,.1) \n",
    "\n",
    "# calcula coseno e seno de x (i.e., avalia coseno e seno ponto-a-ponto)\n",
    "cosx = np.cos(x)\n",
    "sinx = np.sin(x)"
   ]
  },
  {
   "cell_type": "code",
   "execution_count": 231,
   "id": "1dfbaee9",
   "metadata": {},
   "outputs": [
    {
     "data": {
      "text/plain": [
       "Text(0, 0.5, 'y')"
      ]
     },
     "execution_count": 231,
     "metadata": {},
     "output_type": "execute_result"
    },
    {
     "data": {
      "image/png": "[encoded data removed]",
      "text/plain": [
       "<Figure size 640x480 with 1 Axes>"
      ]
     },
     "metadata": {},
     "output_type": "display_data"
    }
   ],
   "source": [
    "# plota uma figura simples com matplotlib\n",
    "plt.figure()\n",
    "plt.plot(x,cosx,label='y=cos(x)')\n",
    "plt.plot(x,sinx,label='x=sin(x)')\n",
    "plt.legend()\n",
    "plt.xlabel('x')\n",
    "plt.ylabel('y')"
   ]
  },
  {
   "cell_type": "code",
   "execution_count": null,
   "id": "b1fc14ca",
   "metadata": {},
   "outputs": [],
   "source": []
  },
  {
   "cell_type": "code",
   "execution_count": null,
   "id": "895444b8-f553-425e-8aef-e30e926e8e0c",
   "metadata": {},
   "outputs": [],
   "source": []
  },
  {
   "cell_type": "code",
   "execution_count": null,
   "id": "9922c1e6-fa0e-4a30-abf4-f6661641dcca",
   "metadata": {},
   "outputs": [],
   "source": []
  }
 ],
 "metadata": {
  "kernelspec": {
   "display_name": "Python 3 (ipykernel)",
   "language": "python",
   "name": "python3"
  },
  "language_info": {
   "codemirror_mode": {
    "name": "ipython",
    "version": 3
   },
   "file_extension": ".py",
   "mimetype": "text/x-python",
   "name": "python",
   "nbconvert_exporter": "python",
   "pygments_lexer": "ipython3",
   "version": "3.10.6"
  }
 },
 "nbformat": 4,
 "nbformat_minor": 5
}
