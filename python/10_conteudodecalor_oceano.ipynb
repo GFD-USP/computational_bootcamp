{
 "cells": [
  {
   "cell_type": "markdown",
   "metadata": {},
   "source": [
    "# Prática 5: Investigando o aquecimento recente dos oceanos usando dados Argo\n",
    "\n",
    "Nas duas tarefas anteriores, você utilizou medidas do nível do mar a partir de maregrafos costeiros e altímetros via satélite para obter insights sobre o aumento do nível do mar. Hoje, você visualizará as tendências recentes no aquecimento dos oceanos usando um famoso produto Argo, uma versão atualizada da climatologia de Roemmich e Gilson (2008). Dean Roemmich é um dos mentores do Programa Argo e foi seu diretor por muitos anos. Ele se aposentou recentemente e agora divide seu tempo entre o sul da Califórnia e a Nova Zelândia.\n",
    "\n",
    "Instruções:\n",
    "\n",
    "1. Faça os melhores gráficos possíveis, prestando especial atenção aos rótulos, unidades, mapas de cores, etc.\n",
    "2. Salve as figuras em formato .png.\n",
    "3. Descreva/discuta os resultados: o que você observa?"
   ]
  },
  {
   "cell_type": "code",
   "execution_count": 6,
   "metadata": {},
   "outputs": [],
   "source": [
    "import numpy as np\n",
    "import xarray as xr\n",
    "import matplotlib.pyplot as plt\n",
    "import gsw\n",
    "import pandas as pd\n",
    "import cartopy.crs as ccrs\n",
    "import cartopy.feature as cfeature"
   ]
  },
  {
   "cell_type": "markdown",
   "metadata": {},
   "source": [
    "## Passo 1: Carregando os dados no xarray\n",
    "Vamos tentar acessar os dados diretamente do espaço compartilhado. Os dados estão em: /data/argo/RG_CLIMATOLOGY.\n",
    "\n",
    "1.1 Verifique se você pode listar o diretório RG_ArgoProduct e verificar seu conteúdo usando o comando `ls`.\n",
    "\n",
    "1.2 Carregue os arquivos netCDF de temperatura e salinidade em dois conjuntos de dados xarray separados. Use o atributo opcional decode_times=False para evitar um erro de análise para a variável de tempo. Examine os metadados desses arquivos. Se você encontrar problemas aqui, notifique imediatamente o Cesar. Pode haver problemas de permissão e acesso múltiplo.\n",
    "\n",
    "1.3 Use xr.merge para mesclar os dois conjuntos de dados em um único conjunto de dados chamado RG. Após mesclar os dois conjuntos de dados em RG, exclua os conjuntos de dados individuais para liberar memória: del temp_dataset, salt_dataset."
   ]
  },
  {
   "cell_type": "markdown",
   "metadata": {},
   "source": [
    "# Passo 2: Atualizando o dataset\n",
    "\n",
    "\n",
    "2.1 RG utiliza uma escala de tempo em \"meses desde janeiro de 2004\", quando a série temporal começou. É mais conveniente trabalhar com carimbos de data e hora do Python, então você deve alterar isso para uma série datetime64. Primeiro, use np.arange('2004-01','2019-01', dtype='datetime64[M]') para criar uma matriz de datas mensais de janeiro de 2004 a dezembro de 2018. Em seguida, use assign_coords para atualizar a coordenada TIME do conjunto de dados RG.\n",
    "\n",
    "2.2 Verifique se a coordenada TIME foi atualizada."
   ]
  },
  {
   "cell_type": "markdown",
   "metadata": {},
   "source": [
    "## Passo 3: Visualizando os dados\n",
    "\n",
    "O produto RG Argo é uma climatologia de temperatura e salinidade, com média temporal (2004-2018) e anomalias mensais em relação a essa média. Ele é baseado exclusivamente em perfis Argo nos primeiros 2000 metros de profundidade. Os campos completos em um determinado mês/ano são a soma da média temporal e da anomalia para esse mês.\n",
    "\n",
    "3.1 Calcule a temperatura e a salinidade total (média + anomalia) e insira-as no conjunto de dados.\n",
    "\n",
    "3.2 Plote um mapa da temperatura total (média temporal mais anomalia) para janeiro de 2004 e janeiro de 2018, tanto a 2,5 dbar quanto a 1975 dbar. Use a mesma escala de cores.\n",
    "\n",
    "3.3 Da mesma forma, plote mapas de salinidade para janeiro de 2004 e janeiro de 2018, tanto a 2,5 dbar quanto a 1975 dbar.\n",
    "\n",
    "3.4 Calcule a média global (ou seja, a média sobre latitude e longitude) da temperatura e da salinidade.\n",
    "\n",
    "3.5 Calcule a média da temperatura média global e da salinidade nos níveis superiores de 500, 1000 e 2000 dbar. Plote essas séries temporais e descreva/discuta os resultados."
   ]
  },
  {
   "cell_type": "markdown",
   "metadata": {
    "tags": []
   },
   "source": [
    "## Passo 4: Estimando o aquecimento oceânico\n",
    "\n",
    "O chamado conteúdo de calor é definido como:\n",
    "\n",
    "$$\\mathcal{H} = \\int_{z_0}^0 \\rho c_p \\theta dz,$$\n",
    "onde $\\rho$ é a densidade da água do mar, $\\rho_0$ é uma densidade de referência constante, $c_p$ é a capacidade de calor da água do mar, e $\\theta'$ é a anomalia de temperatura potencial. $\\mathcal{H}$ é medida em Joules por metro quadrado (J/m²). Além disso, acima, $z_0$ é uma profundidade de referência, a partir da qual a integral está sendo calculada.\n",
    "\n",
    "4.1 Usando a função Gibbs de água do mar gsw.pt0_from_t, calcule a temperatura potencial para o conjunto de dados médio global anual. Insira os resultados no conjunto de dados.\n",
    "\n",
    "4.2 Usando gsw.sigma0, calcule a densidade potencial para o conjunto de dados médio global anual. Lembre-se de que sigma0 é a densidade potencial subtraída de uma constante 1000, portanto, você deve adicionar 1000 ao resultado de gsw.sigma0 para recuperar a densidade potencial completa. Insira os resultados no conjunto de dados.\n",
    "\n",
    "4.3 Usando gsw.cp_t_exact, calcule a capacidade de calor da água do mar para o conjunto de dados médio global anual. Insira os resultados no conjunto de dados.\n",
    "\n",
    "4.4 Calcule o conteúdo de calor para o conjunto de dados médio global anual. Insira os resultados no conjunto de dados.\n",
    "\n",
    "4.5 Plote uma série temporal do conteúdo de calor (HC). Discuta os resultados.\n",
    "\n",
    "4.6 Desafio (opcional): repita 4.1 a 4.5 usando o conjunto de dados mensal."
   ]
  },
  {
   "cell_type": "markdown",
   "metadata": {},
   "source": [
    "Para o conteúdo de calor, você de obter um plot similar a este:\n",
    "\n",
    "<br>\n",
    "<img src=https://github.com/f-lab-USP/computational_bootcamp/blob/main/python/img/HC_Time_series.png?raw=true>\n",
    "</br>\n",
    "\n"
   ]
  },
  {
   "cell_type": "code",
   "execution_count": null,
   "metadata": {},
   "outputs": [],
   "source": []
  }
 ],
 "metadata": {
  "kernelspec": {
   "display_name": "Python 3 (ipykernel)",
   "language": "python",
   "name": "python3"
  },
  "language_info": {
   "codemirror_mode": {
    "name": "ipython",
    "version": 3
   },
   "file_extension": ".py",
   "mimetype": "text/x-python",
   "name": "python",
   "nbconvert_exporter": "python",
   "pygments_lexer": "ipython3",
   "version": "3.10.6"
  }
 },
 "nbformat": 4,
 "nbformat_minor": 4
}
