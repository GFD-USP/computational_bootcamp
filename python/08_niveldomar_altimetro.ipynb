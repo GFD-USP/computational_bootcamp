{
 "cells": [
  {
   "cell_type": "markdown",
   "metadata": {},
   "source": [
    "# Prática 4: Estimando e visualizando aumento do nível do mar no oceano mundial\n",
    "\n",
    "\n",
    "\n",
    "Esta tarefa irá ajudá-lo a aprender mais sobre o xarray e suas maravilhosas funcionalidades. Você estará trabalhando com medidas de nível do mar médias mensais coletadas por uma constelação de altímetros via satélite desde 1993. Esses dados fornecem informações valiosas sobre as tendências recentes no nível do mar.\n",
    "\n",
    "Os dados estão disponíveis em `/data/CMEMS/monthly_sealevel/`"
   ]
  },
  {
   "cell_type": "markdown",
   "metadata": {},
   "source": [
    "### Importando os módulos a serem utilizados nesta prática"
   ]
  },
  {
   "cell_type": "code",
   "execution_count": 5,
   "metadata": {},
   "outputs": [],
   "source": [
    "import xarray as xr\n",
    "\n",
    "import cmocean as cmo       # you may find cmocean useful for gorgeous colorbars\n",
    "\n",
    "from scipy import signal    # we will use scipy's module signal \n",
    "                            # to detrend the data."
   ]
  },
  {
   "cell_type": "markdown",
   "metadata": {},
   "source": [
    "# Passo 1: Carregando dados para um único mês\n",
    "\n",
    "\n",
    "1.1 Utilize xr.open_dataset para carregar em xarray um único arquivo de dados de sua escolha.\n",
    "\n",
    "1.2 Estude o conteúdo do conjunto de dados: quais são as dimensões, coordenadas e variáveis no conjunto de dados? Certifique-se de examinar os metadados.\n",
    "\n",
    "1.3 Plote a anomalia do nível do mar (a altura da superfície do mar acima do nível do mar subtraída de um nível médio do mar) usando as funções integradas do xarray, por exemplo: se o seu conjunto de dados for ds, você poderia fazer ds.sla.plot().\n",
    "\n",
    "\n",
    "Você deve obter plots similares a este: \n",
    "\n",
    "<br>\n",
    "<img src=https://github.com/f-lab-USP/computational_bootcamp/blob/main/python/img/sealevel_1993.png?raw=true>\n",
    "</br>\n"
   ]
  },
  {
   "cell_type": "markdown",
   "metadata": {},
   "source": [
    "# Passo 2: Carregando 28 anos de dados\n",
    "\n",
    "2.1 Carregue todos os 28 anos de dados mensais de nível do mar usando a função xr.open_mfdataset, por exemplo: xr.open_mfdataset('/data/CMEMS/monthly_sealevel/*.nc').\n",
    "\n",
    "2.2 Estude o conteúdo do conjunto de dados.\n",
    "\n",
    "2.3 Utilize funções integradas do xarray (por exemplo, xr.resample) para calcular a média anual do nível do mar ao longo de 28 anos. Dica: a função xr.resample do xarray funciona de maneira semelhante ao reamostragem no pandas (consulte a aula 6)."
   ]
  },
  {
   "cell_type": "markdown",
   "metadata": {},
   "source": [
    "# Passo 3: Visualizando o aumento do nível do mar ao longo to tempo\n",
    "\n",
    "3.1 Plote mapas do nível médio do mar em 1993, 2020 e a diferença no nível do mar entre 2020 e 1993. Utilize as funções de seleção do xarray, como isel ou sel, e garanta que os gráficos de nível médio do mar tenham a mesma escala de cores para facilitar a comparação visual.\n",
    "\n",
    "3.2 Calcule a média global do nível do mar (ou seja, a média espacial do conjunto de dados).\n",
    "\n",
    "3.3 Plote uma série temporal da média global do nível do mar calculada na etapa 3.2.\n",
    "\n",
    "3.4 Interpole os dados para duas localizações específicas: i) no Atlântico Sul (longitude, latitude) = (320, -20) e ii) no Oceano Índico Sul (longitude, latitude) = (30, -40).\n",
    "\n",
    "3.5 Plote juntas as séries temporais da média global do nível do mar e do nível local do mar no Atlântico Norte e no Oceano Índico Sul.\n",
    "\n",
    "\n",
    "Em 3.5, você deve obter algo assim:\n",
    "\n",
    "<br>\n",
    "<img src=https://github.com/PhysMAR/computational_bootcamp/blob/main/python/img/sealevel_AS_IS.png?raw=true>\n",
    "</br>\n",
    "\n"
   ]
  },
  {
   "cell_type": "markdown",
   "metadata": {},
   "source": [
    "# Passo 4: Estimando o aumento do nível do mar no oceano mundial \n",
    "\n",
    "4.1 Utilize a função `polyfit` no `xarray` para calcular a tendência do nível do mar globalmente.\n",
    "\n",
    "4.2 Estime a tendência no Atlântico Stul e no Oceano Índico Sul.\n",
    "\n",
    "4.3 Descreva/discuta os resultados.\n",
    "\n",
    "4.4 Estime e plote um mapa global das tendências do nível do mar. \n",
    "\n",
    "Você deve obter plots similares a estes:\n",
    "\n",
    "<br>\n",
    "<img src=https://github.com/PhysMAR/computational_bootcamp/blob/main/python/img/sealevel_southatlantic.png?raw=true>\n",
    "</br>\n",
    "\n",
    "<br>\n",
    "<img src=https://github.com/PhysMAR/computational_bootcamp/blob/main/python/img/sea_level_trend.png?raw=true>\n",
    "</br>"
   ]
  },
  {
   "cell_type": "code",
   "execution_count": null,
   "metadata": {},
   "outputs": [],
   "source": []
  }
 ],
 "metadata": {
  "kernelspec": {
   "display_name": "Python 3 (ipykernel)",
   "language": "python",
   "name": "python3"
  },
  "language_info": {
   "codemirror_mode": {
    "name": "ipython",
    "version": 3
   },
   "file_extension": ".py",
   "mimetype": "text/x-python",
   "name": "python",
   "nbconvert_exporter": "python",
   "pygments_lexer": "ipython3",
   "version": "3.10.6"
  }
 },
 "nbformat": 4,
 "nbformat_minor": 4
}
